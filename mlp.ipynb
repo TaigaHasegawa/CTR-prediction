{
 "cells": [
  {
   "cell_type": "code",
   "execution_count": null,
   "metadata": {},
   "outputs": [],
   "source": [
    "import pandas as pd \n",
    "import numpy as np \n",
    "import matplotlib.pyplot as plt\n",
    "import seaborn as sns\n",
    "from sklearn.model_selection import train_test_split\n",
    "from sklearn.ensemble import RandomForestClassifier\n",
    "from sklearn.metrics import roc_auc_score "
   ]
  },
  {
   "cell_type": "code",
   "execution_count": null,
   "metadata": {},
   "outputs": [],
   "source": [
    "df_final = pd.read_csv(\"df_final.csv\")"
   ]
  },
  {
   "cell_type": "code",
   "execution_count": null,
   "metadata": {},
   "outputs": [],
   "source": [
    "cat_cols = ['os', 'browser','slot_id', \"ssp_uid\",'carrier_name', 'region','creative_type','sponsor_id','campaign_id','creative_id',\"is_rt\", 'request_hour',\n",
    "       'request_month', 'request_day', 'request_dayofweek', 'rt_times']\n",
    "for c in cat_cols:\n",
    "    vv, obj = pd.factorize(df_final[c])\n",
    "    df_final[c] = vv"
   ]
  },
  {
   "cell_type": "code",
   "execution_count": null,
   "metadata": {},
   "outputs": [],
   "source": [
    "df_final = df_final.fillna(0)"
   ]
  },
  {
   "cell_type": "code",
   "execution_count": null,
   "metadata": {},
   "outputs": [],
   "source": [
    "df_final = df_final.drop([\"Unnamed: 0\"], axis = 1)\n",
    "df_final = df_final.drop([\"request_time\"], axis = 1)\n",
    "df_final = df_final.drop([\"click_time\"], axis = 1)\n",
    "df_final = df_final.drop([\"cv_time\"], axis = 1)\n",
    "df_final = df_final.drop([\"cv_flg\"], axis = 1)\n",
    "df_final = df_final.drop([\"ssp_uid\"], axis = 1)\n",
    "df_final = df_final.drop([\"req_id\"], axis = 1)\n",
    "df_final = df_final.drop([\"os\"], axis = 1)\n",
    "df_final = df_final.drop([\"carrier_name\"], axis = 1)\n",
    "df_final = df_final.drop([\"request_month\"], axis = 1)\n",
    "df_final = df_final.drop([\"request_dayofweek\"], axis = 1)\n",
    "df_final = df_final.drop([\"rt_times\"], axis = 1)\n",
    "df_final = df_final.drop([\"cv_flg_0\"], axis = 1)\n",
    "df_final = df_final.drop([\"click_flg_1\"], axis = 1)\n",
    "df_final = df_final.drop([\"cv_flg_1\"], axis = 1)\n",
    "df_final = df_final.drop([\"click_flg_2\"], axis = 1)\n",
    "df_final = df_final.drop([\"cv_flg_2\"], axis = 1)"
   ]
  },
  {
   "cell_type": "code",
   "execution_count": null,
   "metadata": {
    "codeCollapsed": false
   },
   "outputs": [],
   "source": [
    "# クリックデータのカテゴリ変数を整数としてエンコードする\n",
    "from scipy.misc import derivative\n",
    "def focal_loss_lgb(y_pred, dtrain, alpha, gamma):\n",
    "  a,g = alpha, gamma\n",
    "  y_true = dtrain.label\n",
    "  def fl(x,t):\n",
    "  \tp = 1/(1+np.exp(-x))\n",
    "  \treturn -( a*t + (1-a)*(1-t) ) * (( 1 - ( t*p + (1-t)*(1-p)) )**g) * ( t*np.log(p)+(1-t)*np.log(1-p) )\n",
    "  partial_fl = lambda x: fl(x, y_true)\n",
    "  grad = derivative(partial_fl, y_pred, n=1, dx=1e-6)\n",
    "  hess = derivative(partial_fl, y_pred, n=2, dx=1e-6)\n",
    "  return grad, hess\n",
    "\n",
    "def focal_loss_lgb_eval_error(y_pred, dtrain, alpha, gamma):\n",
    "  a,g = alpha, gamma\n",
    "  y_true = dtrain.label\n",
    "  p = 1/(1+np.exp(-y_pred))\n",
    "  loss = -( a*y_true + (1-a)*(1-y_true) ) * (( 1 - ( y_true*p + (1-y_true)*(1-p)) )**g) * ( y_true*np.log(p)+(1-y_true)*np.log(1-p) )\n",
    "  # (eval_name, eval_result, is_higher_better)\n",
    "  return 'focal_loss', np.mean(loss), False\n",
    "focal_loss = lambda x,y: focal_loss_lgb(x, y, alpha=0.25, gamma=1.)\n",
    "focal_loss_eval = lambda x,y: focal_loss_lgb_eval_error(x, y, alpha=0.25, gamma=1.)"
   ]
  },
  {
   "cell_type": "code",
   "execution_count": null,
   "metadata": {},
   "outputs": [],
   "source": [
    "num_data=len(df_final)\n",
    "feature_cols = [ 'browser','slot_id', 'region','creative_type','sponsor_id','campaign_id','creative_id',\"is_rt\", 'request_hour',\n",
    "     'request_day','fq', 'recency', 'inview_recency','click_flg_0']\n",
    "label_col = \"click_flg\"\n",
    "features = df_final[feature_cols]\n",
    "labels = df_final[label_col]\n",
    "train_x = features.iloc[0:int(num_data*0.8),:]\n",
    "val_x = features.iloc[int(num_data*0.8):int(num_data*0.9),:]\n",
    "test_x = features.iloc[int(num_data*0.9):num_data,:]\n",
    "train_y = labels[0:int(num_data*0.8)]\n",
    "val_y = labels[int(num_data*0.8):int(num_data*0.9)]\n",
    "test_y = labels[int(num_data*0.9):num_data]"
   ]
  },
  {
   "cell_type": "code",
   "execution_count": null,
   "metadata": {
    "codeCollapsed": true
   },
   "outputs": [],
   "source": [
    "class TargetEncoding_ws(object):\n",
    "    \"\"\"\n",
    "    DFと変換したいカラムリスト、targetを引数として、Target Encoding with Smoothingを行う\n",
    "    引数\n",
    "    dataframe : DF全体 (pd.DataFrame)\n",
    "    target : 目的変数のカラム (np.ndarray or np.Series)\n",
    "    list_cols : 変換したいカラムリスト (list[str])\n",
    "    k : smoothingのハイパーパラメータ (int)\n",
    "    impute : 未知のカテゴリに平均を入れるか (boolean)\n",
    "    \"\"\"\n",
    "    def __init__(self, list_cols, k=100, impute=True):\n",
    "        self.df = None\n",
    "        self.target = None\n",
    "        self.list_cols = list_cols\n",
    "        self.k = k\n",
    "        self.impute = impute\n",
    "        self.target_map = {}\n",
    "        self.target_mean = None\n",
    "\n",
    "    def sigmoid(self, x, k):\n",
    "        return 1 / (1 + np.exp(- x / k))\n",
    "\n",
    "    def fit_univariate(self, target, col):\n",
    "        \"\"\"\n",
    "        一つの変数に対するTarget_Encoding\n",
    "        col : TargetEncodingしたい変数名\n",
    "        \"\"\"\n",
    "        df = self.df.copy()\n",
    "        k = self.k\n",
    "        df[\"target\"] = target\n",
    "        n_i = df.groupby(col).count()[\"target\"]\n",
    "\n",
    "        lambda_n_i = self.sigmoid(n_i, k)\n",
    "        uni_map = df.groupby(col).mean()[\"target\"]\n",
    "\n",
    "        return lambda_n_i * df.loc[:, \"target\"].mean() + (1 - lambda_n_i) * uni_map\n",
    "\n",
    "    def fit(self, data, target):\n",
    "        \"\"\"\n",
    "        複数カラムにも対応したTargetEncoding\n",
    "        \"\"\"\n",
    "        self.df = data.copy()\n",
    "        self.target = target\n",
    "\n",
    "        if self.impute == True:\n",
    "            self.target_mean = target.mean()\n",
    "\n",
    "        #各カラムのmapを保存\n",
    "        for col in list_cols:\n",
    "            self.target_map[col] = self.fit_univariate(target, col)\n",
    "\n",
    "    def transform(self, x):\n",
    "        list_cols = self.list_cols\n",
    "        x_d = x.copy()\n",
    "        for col in list_cols:\n",
    "            x_d.loc[:, col] = x_d.loc[:, col].map(self.target_map[col])\n",
    "\n",
    "            #impute\n",
    "            if self.impute == True:\n",
    "                x_d.loc[:, col] = np.where(x_d.loc[:, col].isnull(), self.target_mean, x_d.loc[:, col])\n",
    "\n",
    "        return x_d"
   ]
  },
  {
   "cell_type": "code",
   "execution_count": null,
   "metadata": {},
   "outputs": [],
   "source": [
    "list_cols = ['browser','slot_id','region','creative_type','sponsor_id','campaign_id','creative_id',\"is_rt\", 'request_hour',\n",
    "       'request_day']\n",
    "#list_cols = ['slot_id']"
   ]
  },
  {
   "cell_type": "code",
   "execution_count": null,
   "metadata": {},
   "outputs": [],
   "source": [
    "te = TargetEncoding_ws(list_cols=list_cols, k=300, impute=True)\n",
    "te.fit(train_x, train_y)\n",
    "train_x_1 = te.transform(train_x)\n",
    "val_x_1 = te.transform(val_x)\n",
    "test_x_1 = te.transform(test_x)"
   ]
  },
  {
   "cell_type": "code",
   "execution_count": null,
   "metadata": {},
   "outputs": [],
   "source": [
    "!pip install chainer"
   ]
  },
  {
   "cell_type": "code",
   "execution_count": null,
   "metadata": {},
   "outputs": [],
   "source": [
    "import chainer"
   ]
  },
  {
   "cell_type": "code",
   "execution_count": null,
   "metadata": {},
   "outputs": [],
   "source": [
    "from chainer import datasets\n",
    "train = datasets.TupleDataset(np.array(train_x_1.values, dtype=np.float32), np.array(train_y.values))\n",
    "valid = datasets.TupleDataset(np.array(val_x_1.values, dtype=np.float32), np.array(val_y.values))\n",
    "test = datasets.TupleDataset(np.array(test_x_1.values, dtype=np.float32), np.array(test_y.values))"
   ]
  },
  {
   "cell_type": "code",
   "execution_count": 44,
   "metadata": {},
   "outputs": [],
   "source": [
    "from chainer import iterators\n",
    "\n",
    "batchsize = 128\n",
    "\n",
    "train_iter = iterators.SerialIterator(train, batchsize,shuffle=False)\n",
    "valid_iter = iterators.SerialIterator(valid, batchsize, repeat=False, shuffle=False)\n",
    "test_iter = iterators.SerialIterator(test, batchsize, repeat=False, shuffle=False)"
   ]
  },
  {
   "cell_type": "code",
   "execution_count": 45,
   "metadata": {},
   "outputs": [],
   "source": [
    "import chainer.links as L\n",
    "import chainer.functions as F"
   ]
  },
  {
   "cell_type": "code",
   "execution_count": 46,
   "metadata": {},
   "outputs": [],
   "source": [
    "class MLP(chainer.Chain):\n",
    "\n",
    "    def __init__(self, n_mid_units=84, n_out=2):\n",
    "        super(MLP, self).__init__()\n",
    "\n",
    "        # パラメータを持つ層の登録\n",
    "        with self.init_scope():\n",
    "            self.l1 = L.Linear(None, n_mid_units)\n",
    "            self.l2 = L.Linear(n_mid_units, n_mid_units)\n",
    "            self.l3 = L.Linear(n_mid_units, n_out)\n",
    "\n",
    "    def __call__(self, x):\n",
    "        # データを受け取った際のforward計算を書く\n",
    "        h1 = F.relu(self.l1(x))\n",
    "        h2 = F.relu(self.l2(h1))\n",
    "        return self.l3(h2)\n",
    "\n",
    "net = MLP()"
   ]
  },
  {
   "cell_type": "code",
   "execution_count": 47,
   "metadata": {},
   "outputs": [
    {
     "data": {
      "text/plain": [
       "<chainer.optimizers.adam.Adam at 0x7f89229376d8>"
      ]
     },
     "execution_count": 47,
     "metadata": {},
     "output_type": "execute_result"
    }
   ],
   "source": [
    "from chainer import optimizers\n",
    "# Setup optimizer\n",
    "optimizer = optimizers.Adam()\n",
    "optimizer.setup(net)"
   ]
  },
  {
   "cell_type": "code",
   "execution_count": 48,
   "metadata": {},
   "outputs": [],
   "source": [
    "def focal_loss(x, t, class_num=2, alpha=0.2, gamma=2, eps=1e-7):\n",
    "    xp = chainer.cuda.get_array_module(t)\n",
    "\n",
    "    logit = F.softmax(x)\n",
    "    logit = F.clip(logit, x_min=eps, x_max=1-eps)\n",
    "\n",
    "    t_onehot = xp.eye(class_num)[t]\n",
    "\n",
    "    loss_ce = -1 * F.mean(t_onehot * F.log(logit))\n",
    "    loss_focal = loss_ce * alpha * (1 - logit) ** gamma\n",
    "\n",
    "    return loss_focal"
   ]
  },
  {
   "cell_type": "code",
   "execution_count": 49,
   "metadata": {},
   "outputs": [
    {
     "name": "stdout",
     "output_type": "stream",
     "text": [
      "epoch:01 train_loss:0.2434 val_loss:0.3044 val_accuracy:0.7093\n",
      "epoch:02 train_loss:0.2445 val_loss:0.2998 val_accuracy:0.7223\n",
      "epoch:03 train_loss:0.2462 val_loss:0.2974 val_accuracy:0.7325\n",
      "epoch:04 train_loss:0.2448 val_loss:0.2958 val_accuracy:0.7369\n",
      "epoch:05 train_loss:0.2485 val_loss:0.2945 val_accuracy:0.7447\n",
      "epoch:06 train_loss:0.2503 val_loss:0.2944 val_accuracy:0.7450\n",
      "epoch:07 train_loss:0.2497 val_loss:0.2941 val_accuracy:0.7456\n",
      "epoch:08 train_loss:0.2520 val_loss:0.2941 val_accuracy:0.7467\n",
      "epoch:09 train_loss:0.2499 val_loss:0.2942 val_accuracy:0.7467\n",
      "epoch:10 train_loss:0.2502 val_loss:0.2940 val_accuracy:0.7497\n",
      "epoch:11 train_loss:0.2481 val_loss:0.2941 val_accuracy:0.7451\n",
      "epoch:12 train_loss:0.2471 val_loss:0.2934 val_accuracy:0.7492\n",
      "epoch:13 train_loss:0.2499 val_loss:0.2939 val_accuracy:0.7477\n",
      "epoch:14 train_loss:0.2479 val_loss:0.2935 val_accuracy:0.7504\n",
      "epoch:15 train_loss:0.2490 val_loss:0.2935 val_accuracy:0.7506\n",
      "test_accuracy:0.7476\n"
     ]
    }
   ],
   "source": [
    "from chainer import dataset\n",
    "max_epoch = 15\n",
    "\n",
    "while train_iter.epoch < max_epoch:\n",
    "\n",
    "    # ---------- 学習の1イテレーション ----------\n",
    "    train_batch = train_iter.next()\n",
    "    x, t = dataset.concat_examples(train_batch)\n",
    "    # 予測値の計算\n",
    "    y = net(x)\n",
    "    # ロスの計算\n",
    "    loss = F.softmax_cross_entropy(y, t)\n",
    "    # 勾配の計算\n",
    "    net.cleargrads()\n",
    "    loss.backward()\n",
    "\n",
    "    # パラメータの更新\n",
    "    optimizer.update()\n",
    "    # --------------- ここまで ----------------\n",
    "\n",
    "    # 1エポック終了ごとにValidationデータに対する予測精度を測って、\n",
    "    # モデルの汎化性能が向上していることをチェックしよう\n",
    "    if train_iter.is_new_epoch:  # 1 epochが終わったら\n",
    "\n",
    "        # ロスの表示\n",
    "        print('epoch:{:02d} train_loss:{:.04f} '.format(\n",
    "            train_iter.epoch, float(loss.data)), end='')\n",
    "\n",
    "        valid_losses = []\n",
    "        valid_accuracies = []\n",
    "        while True:\n",
    "            valid_batch = valid_iter.next()\n",
    "            x_valid, t_valid = dataset.concat_examples(valid_batch)\n",
    "\n",
    "            # Validationデータをforward\n",
    "            with chainer.using_config('train', False), \\\n",
    "                    chainer.using_config('enable_backprop', False):\n",
    "                y_valid = net(x_valid)\n",
    "                \n",
    "\n",
    "            # ロスを計算\n",
    "            loss_valid = F.softmax_cross_entropy(y_valid, t_valid)\n",
    "            valid_losses.append(loss_valid.array)\n",
    "\n",
    "            # 精度を計算\n",
    "            accuracy = roc_auc_score(t_valid, y_valid.array[:, 1])\n",
    "            #accuracy = F.accuracy(y_valid, t_valid)\n",
    "            valid_accuracies.append(accuracy)\n",
    "            if valid_iter.is_new_epoch:\n",
    "                valid_iter.reset()\n",
    "                break\n",
    "\n",
    "        print('val_loss:{:.04f} val_accuracy:{:.04f}'.format(\n",
    "            np.mean(valid_losses), np.mean(valid_accuracies)))\n",
    "test_accuracies = []\n",
    "while True:\n",
    "    test_batch = test_iter.next()\n",
    "    x_test, t_test = dataset.concat_examples(test_batch)\n",
    "\n",
    "    # テストデータをforward\n",
    "    with chainer.using_config('train', False), \\\n",
    "            chainer.using_config('enable_backprop', False):\n",
    "        y_test = net(x_test)\n",
    "    with open(\"mlp.txt\", \"a\") as wt:\n",
    "        y_test_softmax = F.softmax(y_test)\n",
    "        step_pred = np.reshape(y_test_softmax.array[:, 1], -1)\n",
    "        wt.write(\"\\n\".join(map(str, step_pred)))\n",
    "        # line break after each batch.\n",
    "        wt.write(\"\\n\")\n",
    "\n",
    "    # 精度を計算\n",
    "    accuracy = roc_auc_score(t_test, y_test.array[:, 1])\n",
    "    #accuracy = F.accuracy(y_valid, t_valid)\n",
    "    test_accuracies.append(accuracy)\n",
    "\n",
    "    if test_iter.is_new_epoch:\n",
    "        test_iter.reset()\n",
    "        break\n",
    "print('test_accuracy:{:.04f}'.format(np.mean(test_accuracies)))\n"
   ]
  },
  {
   "cell_type": "code",
   "execution_count": 50,
   "metadata": {},
   "outputs": [],
   "source": [
    "with open('mlp.txt', 'r') as rd:\n",
    "    pred = [float(s.strip()) for s in rd.readlines()]"
   ]
  },
  {
   "cell_type": "code",
   "execution_count": null,
   "metadata": {},
   "outputs": [],
   "source": [
    "pred[1:10]"
   ]
  },
  {
   "cell_type": "code",
   "execution_count": 51,
   "metadata": {},
   "outputs": [
    {
     "data": {
      "text/plain": [
       "20000"
      ]
     },
     "execution_count": 51,
     "metadata": {},
     "output_type": "execute_result"
    }
   ],
   "source": [
    "len(pred)"
   ]
  },
  {
   "cell_type": "code",
   "execution_count": 52,
   "metadata": {},
   "outputs": [
    {
     "name": "stderr",
     "output_type": "stream",
     "text": [
      "/usr/local/envs/py3env/lib/python3.5/site-packages/matplotlib/font_manager.py:1320: UserWarning: findfont: Font family ['sans-serif'] not found. Falling back to DejaVu Sans\n",
      "  (prop.get_family(), self.defaultFamily[fontext]))\n"
     ]
    },
    {
     "data": {
      "image/png": "[encoded data removed]",
      "text/plain": [
       "<matplotlib.figure.Figure at 0x7f892293a438>"
      ]
     },
     "metadata": {},
     "output_type": "display_data"
    },
    {
     "name": "stdout",
     "output_type": "stream",
     "text": [
      "AUC(PR):0.2563217567267001\n"
     ]
    }
   ],
   "source": [
    "# precision-recall curve and f1\n",
    "from sklearn.metrics import precision_recall_curve\n",
    "from sklearn.metrics import auc\n",
    "from matplotlib import pyplot\n",
    "import random\n",
    "# generate a no skill prediction (majority class)\n",
    "no_skill_probs = [i for i in np.random.rand(len(test_y))]\n",
    "# calculate precision and recall for each threshold\n",
    "ns_precision, ns_recall, _ = precision_recall_curve(test_y, no_skill_probs)\n",
    "lr_precision, lr_recall, _ = precision_recall_curve(test_y, pred)\n",
    "\n",
    "# plot the precision-recall curves\n",
    "pyplot.plot(ns_recall, ns_precision, linestyle='--', label='No Skill')\n",
    "pyplot.plot(lr_recall, lr_precision, linestyle='-', label='Logistic')\n",
    "# axis labels\n",
    "pyplot.xlabel('Recall')\n",
    "pyplot.ylabel('Precision')\n",
    "# show the legend\n",
    "pyplot.legend()\n",
    "# show the plot\n",
    "pyplot.show()\n",
    "from sklearn.metrics import auc\n",
    "print(\"AUC(PR):%s\" %str(auc(lr_recall, lr_precision)))"
   ]
  },
  {
   "cell_type": "code",
   "execution_count": 53,
   "metadata": {},
   "outputs": [
    {
     "data": {
      "text/plain": [
       "dict_items([('__module__', 'chainer.links.connection.linear'), ('_initialize_params', <function Linear._initialize_params at 0x7f89266e2ae8>), ('_abc_negative_cache_version', 205), ('__doc__', 'Linear layer (a.k.a.\\\\  fully-connected layer).\\n\\n    This is a link that wraps the :func:`~chainer.functions.linear` function,\\n    and holds a weight matrix ``W`` and optionally a bias vector ``b`` as\\n    parameters.\\n\\n    If ``initialW`` is left to the default value of ``None``, the weight matrix\\n    ``W`` is initialized with i.i.d. Gaussian samples, each of which has zero\\n    mean and deviation :math:`\\\\sqrt{1/\\\\text{in_size}}`. The bias vector ``b``\\n    is of size ``out_size``. If the ``initial_bias`` is to left the default\\n    value of ``None``, each element is initialized as zero.  If the ``nobias``\\n    argument is set to ``True``, then this link does not hold a bias vector.\\n\\n    Args:\\n        in_size (int or None): Dimension of input vectors. If unspecified or\\n            ``None``, parameter initialization will be deferred until the\\n            first forward data pass at which time the size will be determined.\\n        out_size (int): Dimension of output vectors. If only one value is\\n            passed for ``in_size`` and ``out_size``, that value will be used\\n            for the ``out_size`` dimension.\\n        nobias (bool): If ``True``, then this function does not use the bias.\\n        initialW (:ref:`initializer <initializer>`): Initializer to initialize\\n            the weight. When it is :class:`numpy.ndarray`,\\n            its ``ndim`` should be 2. If ``initialW`` is ``None``, then the\\n            weights are initialized with i.i.d. Gaussian samples, each of which\\n            has zero mean and deviation :math:`\\\\sqrt{1/\\\\text{in_size}}`.\\n        initial_bias (:ref:`initializer <initializer>`): Initializer to\\n            initialize the bias. If ``None``, the bias will be initialized to\\n            zero. When it is :class:`numpy.ndarray`, its ``ndim`` should be 1.\\n    .. seealso:: :func:`~chainer.functions.linear`\\n\\n    Attributes:\\n        W (~chainer.Variable): Weight parameter.\\n        b (~chainer.Variable): Bias parameter.\\n\\n    .. admonition:: Example\\n\\n        There are several ways to make a Linear link.\\n\\n        Define an input vector ``x`` as:\\n\\n        >>> x = np.array([[0, 1, 2, 3, 4]], np.float32)\\n\\n        1. Give the first two arguments explicitly:\\n\\n            Those numbers are considered as the input size and the output size.\\n\\n            >>> l = L.Linear(5, 10)\\n            >>> y = l(x)\\n            >>> y.shape\\n            (1, 10)\\n\\n        2. Omit ``in_size`` (give the output size only as the first argument)\\n           or fill it with ``None``:\\n\\n            In this case, the size of second axis of ``x`` is used as the\\n            input size. So the below two cases are the same.\\n\\n            >>> l = L.Linear(10)\\n            >>> y = l(x)\\n            >>> y.shape\\n            (1, 10)\\n\\n            >>> l = L.Linear(None, 10)\\n            >>> y = l(x)\\n            >>> y.shape\\n            (1, 10)\\n\\n            When you omit the first argument, you need to specify the other\\n            subsequent arguments from ``nobias`` as keyword arguments. So the\\n            below two cases are the same.\\n\\n            >>> l = L.Linear(None, 10, False, None, 0)\\n            >>> y = l(x)\\n            >>> y.shape\\n            (1, 10)\\n\\n            >>> l = L.Linear(10, nobias=False, initialW=None, initial_bias=0)\\n            >>> y = l(x)\\n            >>> y.shape\\n            (1, 10)\\n\\n    '), ('__init__', <function Linear.__init__ at 0x7f89266e2a60>), ('_abc_registry', <_weakrefset.WeakSet object at 0x7f89266bf6d8>), ('_abc_negative_cache', <_weakrefset.WeakSet object at 0x7f89266deeb8>), ('printable_specs', <property object at 0x7f89266df6d8>), ('__abstractmethods__', frozenset()), ('forward', <function Linear.forward at 0x7f89266e2bf8>), ('_abc_cache', <_weakrefset.WeakSet object at 0x7f89266decc0>)])"
      ]
     },
     "execution_count": 53,
     "metadata": {},
     "output_type": "execute_result"
    }
   ],
   "source": [
    "L.Linear.__dict__.items()"
   ]
  },
  {
   "cell_type": "code",
   "execution_count": 56,
   "metadata": {},
   "outputs": [
    {
     "data": {
      "text/plain": [
       "<function chainer.links.connection.linear.Linear.__init__(self, in_size, out_size=None, nobias=False, initialW=None, initial_bias=None)>"
      ]
     },
     "execution_count": 56,
     "metadata": {},
     "output_type": "execute_result"
    }
   ],
   "source": [
    "L.Linear.__init__"
   ]
  },
  {
   "cell_type": "code",
   "execution_count": null,
   "metadata": {},
   "outputs": [],
   "source": []
  }
 ],
 "metadata": {
  "kernelspec": {
   "display_name": "Python 3",
   "language": "python",
   "name": "python3"
  },
  "language_info": {
   "codemirror_mode": {
    "name": "ipython",
    "version": 3
   },
   "file_extension": ".py",
   "mimetype": "text/x-python",
   "name": "python",
   "nbconvert_exporter": "python",
   "pygments_lexer": "ipython3",
   "version": "3.5.6"
  }
 },
 "nbformat": 4,
 "nbformat_minor": 2
}
