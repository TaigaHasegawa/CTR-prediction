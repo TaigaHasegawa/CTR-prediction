{
 "cells": [
  {
   "cell_type": "code",
   "execution_count": 1,
   "metadata": {},
   "outputs": [],
   "source": [
    "import pandas as pd \n",
    "import numpy as np \n",
    "import matplotlib.pyplot as plt\n",
    "import seaborn as sns\n",
    "from sklearn.model_selection import train_test_split\n",
    "from sklearn.ensemble import RandomForestClassifier\n",
    "from sklearn.metrics import roc_auc_score "
   ]
  },
  {
   "cell_type": "code",
   "execution_count": 2,
   "metadata": {},
   "outputs": [],
   "source": [
    "df_final = pd.read_csv(\"df_final.csv\")"
   ]
  },
  {
   "cell_type": "code",
   "execution_count": 3,
   "metadata": {},
   "outputs": [],
   "source": [
    "cat_cols = ['os', 'browser','slot_id', \"ssp_uid\",'carrier_name', 'region','creative_type','sponsor_id','campaign_id','creative_id',\"is_rt\", 'request_hour',\n",
    "       'request_month', 'request_day', 'request_dayofweek']\n",
    "for c in cat_cols:\n",
    "    vv, obj = pd.factorize(df_final[c])\n",
    "    df_final[c] = vv"
   ]
  },
  {
   "cell_type": "code",
   "execution_count": 4,
   "metadata": {},
   "outputs": [],
   "source": [
    "df_final = df_final.fillna(0)"
   ]
  },
  {
   "cell_type": "code",
   "execution_count": 5,
   "metadata": {
    "codeCollapsed": false
   },
   "outputs": [],
   "source": [
    "from scipy.misc import derivative\n",
    "def focal_loss_lgb(y_pred, dtrain, alpha, gamma):\n",
    "  a,g = alpha, gamma\n",
    "  y_true = dtrain.label\n",
    "  def fl(x,t):\n",
    "  \tp = 1/(1+np.exp(-x))\n",
    "  \treturn -( a*t + (1-a)*(1-t) ) * (( 1 - ( t*p + (1-t)*(1-p)) )**g) * ( t*np.log(p)+(1-t)*np.log(1-p) )\n",
    "  partial_fl = lambda x: fl(x, y_true)\n",
    "  grad = derivative(partial_fl, y_pred, n=1, dx=1e-6)\n",
    "  hess = derivative(partial_fl, y_pred, n=2, dx=1e-6)\n",
    "  return grad, hess\n",
    "\n",
    "def focal_loss_lgb_eval_error(y_pred, dtrain, alpha, gamma):\n",
    "  a,g = alpha, gamma\n",
    "  y_true = dtrain.label\n",
    "  p = 1/(1+np.exp(-y_pred))\n",
    "  loss = -( a*y_true + (1-a)*(1-y_true) ) * (( 1 - ( y_true*p + (1-y_true)*(1-p)) )**g) * ( y_true*np.log(p)+(1-y_true)*np.log(1-p) )\n",
    "  # (eval_name, eval_result, is_higher_better)\n",
    "  return 'focal_loss', np.mean(loss), False\n",
    "focal_loss = lambda x,y: focal_loss_lgb(x, y, alpha=0.25, gamma=1.)\n",
    "focal_loss_eval = lambda x,y: focal_loss_lgb_eval_error(x, y, alpha=0.25, gamma=1.)"
   ]
  },
  {
   "cell_type": "code",
   "execution_count": 6,
   "metadata": {},
   "outputs": [
    {
     "name": "stdout",
     "output_type": "stream",
     "text": [
      "Collecting package metadata: done\n",
      "Solving environment: done\n",
      "\n",
      "\n",
      "==> WARNING: A newer version of conda exists. <==\n",
      "  current version: 4.6.14\n",
      "  latest version: 4.8.0rc0\n",
      "\n",
      "Please update conda by running\n",
      "\n",
      "    $ conda update -n base -c defaults conda\n",
      "\n",
      "\n",
      "\n",
      "## Package Plan ##\n",
      "\n",
      "  environment location: /usr/local/envs/py3env\n",
      "\n",
      "  added / updated specs:\n",
      "    - lightgbm\n",
      "\n",
      "\n",
      "The following packages will be downloaded:\n",
      "\n",
      "    package                    |            build\n",
      "    ---------------------------|-----------------\n",
      "    _libgcc_mutex-0.1          |             main           3 KB  defaults\n",
      "    ca-certificates-2019.9.11  |       hecc5488_0         144 KB  conda-forge\n",
      "    certifi-2018.8.24          |        py35_1001         139 KB  conda-forge\n",
      "    lightgbm-2.2.0             |   py35hfc679d8_0         1.1 MB  conda-forge\n",
      "    openssl-1.0.2t             |       h14c3975_0         3.1 MB  conda-forge\n",
      "    ------------------------------------------------------------\n",
      "                                           Total:         4.5 MB\n",
      "\n",
      "The following NEW packages will be INSTALLED:\n",
      "\n",
      "  _libgcc_mutex      pkgs/main/linux-64::_libgcc_mutex-0.1-main\n",
      "  lightgbm           conda-forge/linux-64::lightgbm-2.2.0-py35hfc679d8_0\n",
      "\n",
      "The following packages will be UPDATED:\n",
      "\n",
      "  ca-certificates    pkgs/main::ca-certificates-2019.5.15-0 --> conda-forge::ca-certificates-2019.9.11-hecc5488_0\n",
      "  certifi               pkgs/main::certifi-2018.8.24-py35_1 --> conda-forge::certifi-2018.8.24-py35_1001\n",
      "  openssl              pkgs/main::openssl-1.0.2s-h7b6447c_0 --> conda-forge::openssl-1.0.2t-h14c3975_0\n",
      "\n",
      "\n",
      "\n",
      "Downloading and Extracting Packages\n",
      "openssl-1.0.2t       | 3.1 MB    | ##################################### | 100% \n",
      "certifi-2018.8.24    | 139 KB    | ##################################### | 100% \n",
      "_libgcc_mutex-0.1    | 3 KB      | ##################################### | 100% \n",
      "lightgbm-2.2.0       | 1.1 MB    | ##################################### | 100% \n",
      "ca-certificates-2019 | 144 KB    | ##################################### | 100% \n",
      "Preparing transaction: done\n",
      "Verifying transaction: done\n",
      "Executing transaction: done\n"
     ]
    }
   ],
   "source": [
    "!conda install -y -c conda-forge lightgbm"
   ]
  },
  {
   "cell_type": "markdown",
   "metadata": {},
   "source": [
    "# Without Features Made by me  "
   ]
  },
  {
   "cell_type": "code",
   "execution_count": 17,
   "metadata": {},
   "outputs": [
    {
     "name": "stdout",
     "output_type": "stream",
     "text": [
      "[1]\tvalid_0's auc: 0.544894\tvalid_0's focal_loss: 0.112075\n",
      "[2]\tvalid_0's auc: 0.560512\tvalid_0's focal_loss: 0.0744941\n",
      "[3]\tvalid_0's auc: 0.637265\tvalid_0's focal_loss: 0.0613429\n",
      "[4]\tvalid_0's auc: 0.642388\tvalid_0's focal_loss: 0.0572771\n",
      "[5]\tvalid_0's auc: 0.645796\tvalid_0's focal_loss: 0.0561014\n",
      "[6]\tvalid_0's auc: 0.653145\tvalid_0's focal_loss: 0.0558252\n",
      "[7]\tvalid_0's auc: 0.692746\tvalid_0's focal_loss: 0.0542455\n",
      "[8]\tvalid_0's auc: 0.696505\tvalid_0's focal_loss: 0.0539539\n",
      "[9]\tvalid_0's auc: 0.701769\tvalid_0's focal_loss: 0.0536365\n",
      "[10]\tvalid_0's auc: 0.755701\tvalid_0's focal_loss: 0.0509787\n",
      "[11]\tvalid_0's auc: 0.757779\tvalid_0's focal_loss: 0.0508574\n",
      "[12]\tvalid_0's auc: 0.757592\tvalid_0's focal_loss: 0.0508405\n",
      "[13]\tvalid_0's auc: 0.766136\tvalid_0's focal_loss: 0.0503132\n",
      "[14]\tvalid_0's auc: 0.768211\tvalid_0's focal_loss: 0.0501882\n",
      "[15]\tvalid_0's auc: 0.77056\tvalid_0's focal_loss: 0.0500422\n",
      "[16]\tvalid_0's auc: 0.77079\tvalid_0's focal_loss: 0.0500227\n",
      "[17]\tvalid_0's auc: 0.771809\tvalid_0's focal_loss: 0.0499959\n",
      "[18]\tvalid_0's auc: 0.772011\tvalid_0's focal_loss: 0.0499817\n",
      "[19]\tvalid_0's auc: 0.772098\tvalid_0's focal_loss: 0.0499773\n",
      "[20]\tvalid_0's auc: 0.771667\tvalid_0's focal_loss: 0.0499974\n",
      "[21]\tvalid_0's auc: 0.772759\tvalid_0's focal_loss: 0.0499349\n",
      "[22]\tvalid_0's auc: 0.773327\tvalid_0's focal_loss: 0.0499075\n",
      "[23]\tvalid_0's auc: 0.773308\tvalid_0's focal_loss: 0.049906\n",
      "[24]\tvalid_0's auc: 0.773879\tvalid_0's focal_loss: 0.0498831\n",
      "[25]\tvalid_0's auc: 0.773699\tvalid_0's focal_loss: 0.0498918\n",
      "[26]\tvalid_0's auc: 0.773407\tvalid_0's focal_loss: 0.0499019\n",
      "[27]\tvalid_0's auc: 0.773411\tvalid_0's focal_loss: 0.0498915\n",
      "[28]\tvalid_0's auc: 0.774032\tvalid_0's focal_loss: 0.0498555\n",
      "[29]\tvalid_0's auc: 0.774106\tvalid_0's focal_loss: 0.049851\n",
      "[30]\tvalid_0's auc: 0.77392\tvalid_0's focal_loss: 0.0498551\n",
      "[31]\tvalid_0's auc: 0.774012\tvalid_0's focal_loss: 0.0498501\n",
      "[32]\tvalid_0's auc: 0.774226\tvalid_0's focal_loss: 0.0498353\n",
      "[33]\tvalid_0's auc: 0.774158\tvalid_0's focal_loss: 0.0498355\n",
      "[34]\tvalid_0's auc: 0.774259\tvalid_0's focal_loss: 0.0498305\n",
      "[35]\tvalid_0's auc: 0.774165\tvalid_0's focal_loss: 0.0498366\n",
      "[36]\tvalid_0's auc: 0.774088\tvalid_0's focal_loss: 0.0498369\n",
      "[37]\tvalid_0's auc: 0.774234\tvalid_0's focal_loss: 0.0498321\n",
      "[38]\tvalid_0's auc: 0.774243\tvalid_0's focal_loss: 0.0498303\n",
      "[39]\tvalid_0's auc: 0.774231\tvalid_0's focal_loss: 0.0498311\n",
      "[40]\tvalid_0's auc: 0.774199\tvalid_0's focal_loss: 0.0498286\n",
      "[41]\tvalid_0's auc: 0.774215\tvalid_0's focal_loss: 0.0498291\n",
      "[42]\tvalid_0's auc: 0.774139\tvalid_0's focal_loss: 0.0498299\n",
      "[43]\tvalid_0's auc: 0.774181\tvalid_0's focal_loss: 0.0498273\n",
      "[44]\tvalid_0's auc: 0.774181\tvalid_0's focal_loss: 0.0498273\n",
      "[45]\tvalid_0's auc: 0.774762\tvalid_0's focal_loss: 0.049792\n",
      "[46]\tvalid_0's auc: 0.774769\tvalid_0's focal_loss: 0.0497916\n",
      "[47]\tvalid_0's auc: 0.774776\tvalid_0's focal_loss: 0.0497924\n",
      "[48]\tvalid_0's auc: 0.774785\tvalid_0's focal_loss: 0.049792\n",
      "[49]\tvalid_0's auc: 0.774787\tvalid_0's focal_loss: 0.049792\n",
      "[50]\tvalid_0's auc: 0.774787\tvalid_0's focal_loss: 0.0497916\n",
      "[51]\tvalid_0's auc: 0.775325\tvalid_0's focal_loss: 0.0497656\n",
      "[52]\tvalid_0's auc: 0.775898\tvalid_0's focal_loss: 0.0497341\n",
      "[53]\tvalid_0's auc: 0.775886\tvalid_0's focal_loss: 0.0497345\n",
      "[54]\tvalid_0's auc: 0.776123\tvalid_0's focal_loss: 0.0497243\n",
      "[55]\tvalid_0's auc: 0.776528\tvalid_0's focal_loss: 0.0496999\n",
      "[56]\tvalid_0's auc: 0.776614\tvalid_0's focal_loss: 0.0496977\n",
      "[57]\tvalid_0's auc: 0.776599\tvalid_0's focal_loss: 0.0496984\n",
      "[58]\tvalid_0's auc: 0.776589\tvalid_0's focal_loss: 0.0496983\n",
      "[59]\tvalid_0's auc: 0.77657\tvalid_0's focal_loss: 0.0497008\n",
      "[60]\tvalid_0's auc: 0.776384\tvalid_0's focal_loss: 0.0497044\n",
      "[61]\tvalid_0's auc: 0.776377\tvalid_0's focal_loss: 0.0497045\n",
      "[62]\tvalid_0's auc: 0.776383\tvalid_0's focal_loss: 0.0497042\n",
      "[63]\tvalid_0's auc: 0.776379\tvalid_0's focal_loss: 0.0497042\n",
      "[64]\tvalid_0's auc: 0.776756\tvalid_0's focal_loss: 0.0496895\n",
      "[65]\tvalid_0's auc: 0.776825\tvalid_0's focal_loss: 0.0496862\n",
      "[66]\tvalid_0's auc: 0.776956\tvalid_0's focal_loss: 0.0496787\n",
      "[67]\tvalid_0's auc: 0.777343\tvalid_0's focal_loss: 0.0496738\n",
      "[68]\tvalid_0's auc: 0.777393\tvalid_0's focal_loss: 0.0496715\n",
      "[69]\tvalid_0's auc: 0.777369\tvalid_0's focal_loss: 0.0496726\n",
      "[70]\tvalid_0's auc: 0.777333\tvalid_0's focal_loss: 0.0496731\n",
      "[71]\tvalid_0's auc: 0.777336\tvalid_0's focal_loss: 0.0496731\n",
      "[72]\tvalid_0's auc: 0.777435\tvalid_0's focal_loss: 0.0496639\n",
      "[73]\tvalid_0's auc: 0.777595\tvalid_0's focal_loss: 0.0496523\n",
      "[74]\tvalid_0's auc: 0.777596\tvalid_0's focal_loss: 0.0496502\n",
      "[75]\tvalid_0's auc: 0.777693\tvalid_0's focal_loss: 0.0496428\n",
      "[76]\tvalid_0's auc: 0.77775\tvalid_0's focal_loss: 0.0496414\n",
      "[77]\tvalid_0's auc: 0.777762\tvalid_0's focal_loss: 0.0496414\n",
      "[78]\tvalid_0's auc: 0.777773\tvalid_0's focal_loss: 0.0496415\n",
      "[79]\tvalid_0's auc: 0.777781\tvalid_0's focal_loss: 0.0496414\n",
      "[80]\tvalid_0's auc: 0.777768\tvalid_0's focal_loss: 0.0496412\n",
      "[81]\tvalid_0's auc: 0.77777\tvalid_0's focal_loss: 0.0496413\n",
      "[82]\tvalid_0's auc: 0.777823\tvalid_0's focal_loss: 0.0496381\n",
      "[83]\tvalid_0's auc: 0.777846\tvalid_0's focal_loss: 0.0496371\n",
      "[84]\tvalid_0's auc: 0.777852\tvalid_0's focal_loss: 0.0496371\n",
      "[85]\tvalid_0's auc: 0.777852\tvalid_0's focal_loss: 0.0496371\n",
      "[86]\tvalid_0's auc: 0.777852\tvalid_0's focal_loss: 0.0496371\n",
      "[87]\tvalid_0's auc: 0.777878\tvalid_0's focal_loss: 0.0496364\n",
      "[88]\tvalid_0's auc: 0.778047\tvalid_0's focal_loss: 0.0496257\n",
      "[89]\tvalid_0's auc: 0.778021\tvalid_0's focal_loss: 0.0496219\n",
      "[90]\tvalid_0's auc: 0.778019\tvalid_0's focal_loss: 0.0496217\n",
      "[91]\tvalid_0's auc: 0.778031\tvalid_0's focal_loss: 0.0496215\n",
      "[92]\tvalid_0's auc: 0.77818\tvalid_0's focal_loss: 0.0496179\n",
      "[93]\tvalid_0's auc: 0.778066\tvalid_0's focal_loss: 0.0496221\n",
      "[94]\tvalid_0's auc: 0.777968\tvalid_0's focal_loss: 0.049624\n",
      "[95]\tvalid_0's auc: 0.778086\tvalid_0's focal_loss: 0.0496275\n",
      "[96]\tvalid_0's auc: 0.778081\tvalid_0's focal_loss: 0.0496281\n",
      "[97]\tvalid_0's auc: 0.778105\tvalid_0's focal_loss: 0.0496269\n",
      "[98]\tvalid_0's auc: 0.778125\tvalid_0's focal_loss: 0.0496266\n",
      "[99]\tvalid_0's auc: 0.778023\tvalid_0's focal_loss: 0.0496294\n",
      "[100]\tvalid_0's auc: 0.778025\tvalid_0's focal_loss: 0.0496289\n",
      "Plotting metrics recorded during training...\n"
     ]
    },
    {
     "name": "stderr",
     "output_type": "stream",
     "text": [
      "/usr/local/envs/py3env/lib/python3.5/site-packages/matplotlib/font_manager.py:1320: UserWarning: findfont: Font family ['sans-serif'] not found. Falling back to DejaVu Sans\n",
      "  (prop.get_family(), self.defaultFamily[fontext]))\n"
     ]
    },
    {
     "data": {
      "image/png": "[encoded data removed]",
      "text/plain": [
       "<matplotlib.figure.Figure at 0x7f1552074860>"
      ]
     },
     "metadata": {},
     "output_type": "display_data"
    },
    {
     "name": "stdout",
     "output_type": "stream",
     "text": [
      "Plotting feature importances...\n"
     ]
    },
    {
     "data": {
      "image/png": "[encoded data removed]",
      "text/plain": [
       "<matplotlib.figure.Figure at 0x7f154f8bb4e0>"
      ]
     },
     "metadata": {},
     "output_type": "display_data"
    }
   ],
   "source": [
    "import lightgbm as lgb\n",
    "from sklearn.preprocessing import PolynomialFeatures\n",
    "num_data=len(df_final)\n",
    "feature_cols = ['browser',\n",
    "       'slot_id', 'sponsor_id', 'campaign_id', 'creative_id',\n",
    "       'region', 'fq', 'recency', 'inview_recency']\n",
    "label_col = \"click_flg\"\n",
    "features = df_final[feature_cols]\n",
    "labels = df_final[label_col]\n",
    "train_x = features.iloc[0:int(num_data*0.8),:]\n",
    "val_x = features.iloc[int(num_data*0.8):int(num_data*0.9),:]\n",
    "test_x = features.iloc[int(num_data*0.9):num_data,:]\n",
    "train_y = labels[0:int(num_data*0.8)]\n",
    "val_y = labels[int(num_data*0.8):int(num_data*0.9)]\n",
    "test_y = labels[int(num_data*0.9):num_data]\n",
    "# 訓練・テストデータの設定\n",
    "train_data = lgb.Dataset(train_x, label=train_y)\n",
    "eval_data = lgb.Dataset(val_x, label=val_y, reference= train_data)\n",
    "\n",
    "params={\"objective\": \"binary\",\n",
    "        \"boosting_type\": \"gbdt\",\n",
    "        'feature_fraction': 0.27914384688479543, \n",
    "        'max_depth': 73, \n",
    "        \"max_bin\": 256,\n",
    "        'min_child_weight': 9, \n",
    "        'subsample': 0.9878747678936071, \n",
    "        'min_data_in_leaf': 428, \n",
    "        'num_leaves': 76, \n",
    "        'min_child_samples': 310, \n",
    "        'learning_rate': 0.641945204259818, \n",
    "        'drop_rate': 0.9931413183540156, \n",
    "        'lambda_l1': 6,\n",
    "        \"verbose\": 2,\n",
    "        \"is_unbalance\": False,\n",
    "        \"max_drop\": 50,\n",
    "        \"min_split_gain\": 0,\n",
    "        \"verbosity\":-1\n",
    "       }\n",
    "params['metric'] = 'auc'\n",
    "evals_result = {}  # to record eval results for plotting\n",
    "model = lgb.train(params, train_data, valid_sets=eval_data,evals_result=evals_result, fobj=focal_loss, feval=focal_loss_eval)\n",
    "print('Plotting metrics recorded during training...')\n",
    "ax = lgb.plot_metric(evals_result, metric='auc')\n",
    "plt.show()\n",
    "print('Plotting feature importances...')\n",
    "ax = lgb.plot_importance(model, max_num_features=10)\n",
    "plt.show()\n",
    "y_pred = model.predict(test_x, num_iteration=model.best_iteration)"
   ]
  },
  {
   "cell_type": "code",
   "execution_count": 18,
   "metadata": {},
   "outputs": [
    {
     "name": "stdout",
     "output_type": "stream",
     "text": [
      "AUC(ROC):0.7742782421402946\n"
     ]
    }
   ],
   "source": [
    "print(\"AUC(ROC):{}\".format(roc_auc_score(test_y,y_pred)))"
   ]
  },
  {
   "cell_type": "code",
   "execution_count": 19,
   "metadata": {},
   "outputs": [
    {
     "name": "stderr",
     "output_type": "stream",
     "text": [
      "/usr/local/envs/py3env/lib/python3.5/site-packages/matplotlib/font_manager.py:1320: UserWarning: findfont: Font family ['sans-serif'] not found. Falling back to DejaVu Sans\n",
      "  (prop.get_family(), self.defaultFamily[fontext]))\n"
     ]
    },
    {
     "data": {
      "image/png": "[encoded data removed]",
      "text/plain": [
       "<matplotlib.figure.Figure at 0x7f154f923550>"
      ]
     },
     "metadata": {},
     "output_type": "display_data"
    }
   ],
   "source": [
    "# precision-recall curve and f1\n",
    "from sklearn.metrics import precision_recall_curve\n",
    "from sklearn.metrics import auc\n",
    "from matplotlib import pyplot\n",
    "import random\n",
    "# generate a no skill prediction (majority class)\n",
    "no_skill_probs = [i for i in np.random.rand(len(test_y))]\n",
    "# calculate precision and recall for each threshold\n",
    "ns_precision, ns_recall, _ = precision_recall_curve(test_y, no_skill_probs)\n",
    "lr_precision, lr_recall, _ = precision_recall_curve(test_y, y_pred)\n",
    "\n",
    "# plot the precision-recall curves\n",
    "pyplot.plot(ns_recall, ns_precision, linestyle='--', label='No Skill')\n",
    "pyplot.plot(lr_recall, lr_precision, linestyle='-', label='Logistic')\n",
    "# axis labels\n",
    "pyplot.xlabel('Recall')\n",
    "pyplot.ylabel('Precision')\n",
    "# show the legend\n",
    "pyplot.legend()\n",
    "# show the plot\n",
    "pyplot.show()"
   ]
  },
  {
   "cell_type": "code",
   "execution_count": 20,
   "metadata": {},
   "outputs": [
    {
     "name": "stdout",
     "output_type": "stream",
     "text": [
      "AUC(PR):0.30033412323836317\n"
     ]
    }
   ],
   "source": [
    "from sklearn.metrics import auc\n",
    "print(\"AUC(PR):%s\" %str(auc(lr_recall, lr_precision)))"
   ]
  },
  {
   "cell_type": "code",
   "execution_count": 78,
   "metadata": {},
   "outputs": [],
   "source": [
    "y_pred_str = [str(n) for n in y_pred]\n",
    "with open('lightgbm_3.txt', 'w') as rd:\n",
    "    rd.writelines('\\n'.join(y_pred_str))"
   ]
  },
  {
   "cell_type": "markdown",
   "metadata": {},
   "source": [
    "# With Features Made by me"
   ]
  },
  {
   "cell_type": "code",
   "execution_count": 7,
   "metadata": {},
   "outputs": [],
   "source": [
    "num_data=len(df_final)\n",
    "feature_cols = ['browser',\n",
    "       'slot_id', 'sponsor_id', 'campaign_id', 'creative_id',\n",
    "       'region', 'fq', 'recency', 'inview_recency', 'request_hour',\n",
    "       'request_day']\n",
    "label_col = \"click_flg\"\n",
    "features = df_final[feature_cols]\n",
    "labels = df_final[label_col]\n",
    "train_x = features.iloc[0:int(num_data*0.8),:]\n",
    "val_x = features.iloc[int(num_data*0.8):int(num_data*0.9),:]\n",
    "test_x = features.iloc[int(num_data*0.9):num_data,:]\n",
    "train_y = labels[0:int(num_data*0.8)]\n",
    "val_y = labels[int(num_data*0.8):int(num_data*0.9)]\n",
    "test_y = labels[int(num_data*0.9):num_data]"
   ]
  },
  {
   "cell_type": "code",
   "execution_count": 8,
   "metadata": {
    "codeCollapsed": true
   },
   "outputs": [],
   "source": [
    "class TargetEncoding_ws(object):\n",
    "    \"\"\"\n",
    "    DFと変換したいカラムリスト、targetを引数として、Target Encoding with Smoothingを行う\n",
    "    引数\n",
    "    dataframe : DF全体 (pd.DataFrame)\n",
    "    target : 目的変数のカラム (np.ndarray or np.Series)\n",
    "    list_cols : 変換したいカラムリスト (list[str])\n",
    "    k : smoothingのハイパーパラメータ (int)\n",
    "    impute : 未知のカテゴリに平均を入れるか (boolean)\n",
    "    \"\"\"\n",
    "    def __init__(self, list_cols, k=100, impute=True):\n",
    "        self.df = None\n",
    "        self.target = None\n",
    "        self.list_cols = list_cols\n",
    "        self.k = k\n",
    "        self.impute = impute\n",
    "        self.target_map = {}\n",
    "        self.target_mean = None\n",
    "\n",
    "    def sigmoid(self, x, k):\n",
    "        return 1 / (1 + np.exp(- x / k))\n",
    "\n",
    "    def fit_univariate(self, target, col):\n",
    "        \"\"\"\n",
    "        一つの変数に対するTarget_Encoding\n",
    "        col : TargetEncodingしたい変数名\n",
    "        \"\"\"\n",
    "        df = self.df.copy()\n",
    "        k = self.k\n",
    "        df[\"target\"] = target\n",
    "        n_i = df.groupby(col).count()[\"target\"]\n",
    "\n",
    "        lambda_n_i = self.sigmoid(n_i, k)\n",
    "        uni_map = df.groupby(col).mean()[\"target\"]\n",
    "\n",
    "        return lambda_n_i * df.loc[:, \"target\"].mean() + (1 - lambda_n_i) * uni_map\n",
    "\n",
    "    def fit(self, data, target):\n",
    "        \"\"\"\n",
    "        複数カラムにも対応したTargetEncoding\n",
    "        \"\"\"\n",
    "        self.df = data.copy()\n",
    "        self.target = target\n",
    "\n",
    "        if self.impute == True:\n",
    "            self.target_mean = target.mean()\n",
    "\n",
    "        #各カラムのmapを保存\n",
    "        for col in list_cols:\n",
    "            self.target_map[col] = self.fit_univariate(target, col)\n",
    "\n",
    "    def transform(self, x):\n",
    "        list_cols = self.list_cols\n",
    "        x_d = x.copy()\n",
    "        for col in list_cols:\n",
    "            x_d.loc[:, col] = x_d.loc[:, col].map(self.target_map[col])\n",
    "\n",
    "            #impute\n",
    "            if self.impute == True:\n",
    "                x_d.loc[:, col] = np.where(x_d.loc[:, col].isnull(), self.target_mean, x_d.loc[:, col])\n",
    "\n",
    "        return x_d"
   ]
  },
  {
   "cell_type": "code",
   "execution_count": 9,
   "metadata": {},
   "outputs": [],
   "source": [
    "list_cols = ['browser',\n",
    "       'slot_id', 'sponsor_id', 'campaign_id', 'creative_id',\n",
    "       'region', 'request_hour',\n",
    "       'request_day']\n",
    "\n",
    "#list_cols = ['slot_id']\n"
   ]
  },
  {
   "cell_type": "code",
   "execution_count": 10,
   "metadata": {},
   "outputs": [],
   "source": [
    "te = TargetEncoding_ws(list_cols=list_cols, k=300, impute=True)\n",
    "te.fit(train_x, train_y)\n",
    "train_x_1 = te.transform(train_x)\n",
    "val_x_1 = te.transform(val_x)\n",
    "test_x_1 = te.transform(test_x)"
   ]
  },
  {
   "cell_type": "code",
   "execution_count": 69,
   "metadata": {},
   "outputs": [
    {
     "name": "stdout",
     "output_type": "stream",
     "text": [
      "[1]\tvalid_0's auc: 0.5\tvalid_0's focal_loss: 0.24229\n",
      "[2]\tvalid_0's auc: 0.653097\tvalid_0's focal_loss: 0.111847\n",
      "[3]\tvalid_0's auc: 0.653103\tvalid_0's focal_loss: 0.0738018\n",
      "[4]\tvalid_0's auc: 0.674523\tvalid_0's focal_loss: 0.060981\n",
      "[5]\tvalid_0's auc: 0.776436\tvalid_0's focal_loss: 0.0532549\n",
      "[6]\tvalid_0's auc: 0.777888\tvalid_0's focal_loss: 0.0519388\n",
      "[7]\tvalid_0's auc: 0.777698\tvalid_0's focal_loss: 0.0516635\n",
      "[8]\tvalid_0's auc: 0.778166\tvalid_0's focal_loss: 0.0513871\n",
      "[9]\tvalid_0's auc: 0.775751\tvalid_0's focal_loss: 0.0505889\n",
      "[10]\tvalid_0's auc: 0.771973\tvalid_0's focal_loss: 0.0504835\n",
      "[11]\tvalid_0's auc: 0.772535\tvalid_0's focal_loss: 0.0504753\n",
      "[12]\tvalid_0's auc: 0.770591\tvalid_0's focal_loss: 0.0504616\n",
      "[13]\tvalid_0's auc: 0.784121\tvalid_0's focal_loss: 0.0494544\n",
      "[14]\tvalid_0's auc: 0.784209\tvalid_0's focal_loss: 0.0494502\n",
      "[15]\tvalid_0's auc: 0.784585\tvalid_0's focal_loss: 0.0494415\n",
      "[16]\tvalid_0's auc: 0.784644\tvalid_0's focal_loss: 0.0494362\n",
      "[17]\tvalid_0's auc: 0.784473\tvalid_0's focal_loss: 0.0494382\n",
      "[18]\tvalid_0's auc: 0.784616\tvalid_0's focal_loss: 0.0494293\n",
      "[19]\tvalid_0's auc: 0.787215\tvalid_0's focal_loss: 0.0492531\n",
      "[20]\tvalid_0's auc: 0.787134\tvalid_0's focal_loss: 0.0492575\n",
      "[21]\tvalid_0's auc: 0.786969\tvalid_0's focal_loss: 0.0492642\n",
      "[22]\tvalid_0's auc: 0.788608\tvalid_0's focal_loss: 0.0491819\n",
      "[23]\tvalid_0's auc: 0.789286\tvalid_0's focal_loss: 0.0491414\n",
      "[24]\tvalid_0's auc: 0.789363\tvalid_0's focal_loss: 0.0491365\n",
      "[25]\tvalid_0's auc: 0.789599\tvalid_0's focal_loss: 0.0491257\n",
      "[26]\tvalid_0's auc: 0.789676\tvalid_0's focal_loss: 0.0491212\n",
      "[27]\tvalid_0's auc: 0.789601\tvalid_0's focal_loss: 0.049141\n",
      "[28]\tvalid_0's auc: 0.789542\tvalid_0's focal_loss: 0.0491437\n",
      "[29]\tvalid_0's auc: 0.789669\tvalid_0's focal_loss: 0.0491331\n",
      "[30]\tvalid_0's auc: 0.789669\tvalid_0's focal_loss: 0.0491331\n",
      "[31]\tvalid_0's auc: 0.789642\tvalid_0's focal_loss: 0.0491346\n",
      "[32]\tvalid_0's auc: 0.789813\tvalid_0's focal_loss: 0.0491264\n",
      "[33]\tvalid_0's auc: 0.789816\tvalid_0's focal_loss: 0.0491262\n",
      "[34]\tvalid_0's auc: 0.789715\tvalid_0's focal_loss: 0.0491384\n",
      "[35]\tvalid_0's auc: 0.789481\tvalid_0's focal_loss: 0.0491448\n",
      "[36]\tvalid_0's auc: 0.78948\tvalid_0's focal_loss: 0.0491445\n",
      "[37]\tvalid_0's auc: 0.789482\tvalid_0's focal_loss: 0.0491447\n",
      "[38]\tvalid_0's auc: 0.789359\tvalid_0's focal_loss: 0.0491445\n",
      "[39]\tvalid_0's auc: 0.78929\tvalid_0's focal_loss: 0.049149\n",
      "[40]\tvalid_0's auc: 0.789338\tvalid_0's focal_loss: 0.0491452\n",
      "[41]\tvalid_0's auc: 0.789334\tvalid_0's focal_loss: 0.0491453\n",
      "[42]\tvalid_0's auc: 0.789334\tvalid_0's focal_loss: 0.0491453\n",
      "[43]\tvalid_0's auc: 0.789334\tvalid_0's focal_loss: 0.0491453\n",
      "[44]\tvalid_0's auc: 0.789334\tvalid_0's focal_loss: 0.0491453\n",
      "[45]\tvalid_0's auc: 0.789334\tvalid_0's focal_loss: 0.0491453\n",
      "[46]\tvalid_0's auc: 0.789433\tvalid_0's focal_loss: 0.0491414\n",
      "[47]\tvalid_0's auc: 0.789733\tvalid_0's focal_loss: 0.049128\n",
      "[48]\tvalid_0's auc: 0.790306\tvalid_0's focal_loss: 0.049117\n",
      "[49]\tvalid_0's auc: 0.790346\tvalid_0's focal_loss: 0.0491163\n",
      "[50]\tvalid_0's auc: 0.79033\tvalid_0's focal_loss: 0.0491168\n",
      "[51]\tvalid_0's auc: 0.790234\tvalid_0's focal_loss: 0.0491173\n",
      "[52]\tvalid_0's auc: 0.790252\tvalid_0's focal_loss: 0.0491165\n",
      "[53]\tvalid_0's auc: 0.790251\tvalid_0's focal_loss: 0.0491174\n",
      "[54]\tvalid_0's auc: 0.790221\tvalid_0's focal_loss: 0.049114\n",
      "[55]\tvalid_0's auc: 0.790208\tvalid_0's focal_loss: 0.0491143\n",
      "[56]\tvalid_0's auc: 0.79013\tvalid_0's focal_loss: 0.0491166\n",
      "[57]\tvalid_0's auc: 0.79013\tvalid_0's focal_loss: 0.0491166\n",
      "[58]\tvalid_0's auc: 0.790376\tvalid_0's focal_loss: 0.0491164\n",
      "[59]\tvalid_0's auc: 0.790377\tvalid_0's focal_loss: 0.049116\n",
      "[60]\tvalid_0's auc: 0.790377\tvalid_0's focal_loss: 0.049116\n",
      "[61]\tvalid_0's auc: 0.790381\tvalid_0's focal_loss: 0.0491164\n",
      "[62]\tvalid_0's auc: 0.7903\tvalid_0's focal_loss: 0.0491205\n",
      "[63]\tvalid_0's auc: 0.790275\tvalid_0's focal_loss: 0.0491221\n",
      "[64]\tvalid_0's auc: 0.790263\tvalid_0's focal_loss: 0.049122\n",
      "[65]\tvalid_0's auc: 0.790284\tvalid_0's focal_loss: 0.0491205\n",
      "[66]\tvalid_0's auc: 0.790281\tvalid_0's focal_loss: 0.0491206\n",
      "[67]\tvalid_0's auc: 0.790271\tvalid_0's focal_loss: 0.049121\n",
      "[68]\tvalid_0's auc: 0.790271\tvalid_0's focal_loss: 0.049121\n",
      "[69]\tvalid_0's auc: 0.790305\tvalid_0's focal_loss: 0.049119\n",
      "[70]\tvalid_0's auc: 0.790364\tvalid_0's focal_loss: 0.0491228\n",
      "[71]\tvalid_0's auc: 0.790353\tvalid_0's focal_loss: 0.0491256\n",
      "[72]\tvalid_0's auc: 0.79045\tvalid_0's focal_loss: 0.049116\n",
      "[73]\tvalid_0's auc: 0.790453\tvalid_0's focal_loss: 0.0491149\n",
      "[74]\tvalid_0's auc: 0.790452\tvalid_0's focal_loss: 0.0491149\n",
      "[75]\tvalid_0's auc: 0.790452\tvalid_0's focal_loss: 0.0491149\n",
      "[76]\tvalid_0's auc: 0.79044\tvalid_0's focal_loss: 0.0491148\n",
      "[77]\tvalid_0's auc: 0.790523\tvalid_0's focal_loss: 0.0491121\n",
      "[78]\tvalid_0's auc: 0.790523\tvalid_0's focal_loss: 0.0491121\n",
      "[79]\tvalid_0's auc: 0.790566\tvalid_0's focal_loss: 0.0491113\n",
      "[80]\tvalid_0's auc: 0.790573\tvalid_0's focal_loss: 0.0491111\n",
      "[81]\tvalid_0's auc: 0.790573\tvalid_0's focal_loss: 0.0491111\n",
      "[82]\tvalid_0's auc: 0.790575\tvalid_0's focal_loss: 0.049111\n",
      "[83]\tvalid_0's auc: 0.790575\tvalid_0's focal_loss: 0.049111\n",
      "[84]\tvalid_0's auc: 0.790575\tvalid_0's focal_loss: 0.049111\n",
      "[85]\tvalid_0's auc: 0.790581\tvalid_0's focal_loss: 0.0491108\n",
      "[86]\tvalid_0's auc: 0.790581\tvalid_0's focal_loss: 0.0491108\n",
      "[87]\tvalid_0's auc: 0.790581\tvalid_0's focal_loss: 0.0491108\n",
      "[88]\tvalid_0's auc: 0.790581\tvalid_0's focal_loss: 0.0491108\n",
      "[89]\tvalid_0's auc: 0.790569\tvalid_0's focal_loss: 0.0491114\n",
      "[90]\tvalid_0's auc: 0.790569\tvalid_0's focal_loss: 0.049111\n",
      "[91]\tvalid_0's auc: 0.790571\tvalid_0's focal_loss: 0.0491111\n",
      "[92]\tvalid_0's auc: 0.790585\tvalid_0's focal_loss: 0.049111\n",
      "[93]\tvalid_0's auc: 0.790583\tvalid_0's focal_loss: 0.0491111\n",
      "[94]\tvalid_0's auc: 0.790611\tvalid_0's focal_loss: 0.0491097\n",
      "[95]\tvalid_0's auc: 0.79062\tvalid_0's focal_loss: 0.0491094\n",
      "[96]\tvalid_0's auc: 0.790625\tvalid_0's focal_loss: 0.0491091\n",
      "[97]\tvalid_0's auc: 0.790607\tvalid_0's focal_loss: 0.0491099\n",
      "[98]\tvalid_0's auc: 0.790607\tvalid_0's focal_loss: 0.0491099\n",
      "[99]\tvalid_0's auc: 0.790637\tvalid_0's focal_loss: 0.04911\n",
      "[100]\tvalid_0's auc: 0.790637\tvalid_0's focal_loss: 0.04911\n",
      "Plotting metrics recorded during training...\n"
     ]
    },
    {
     "name": "stderr",
     "output_type": "stream",
     "text": [
      "/usr/local/envs/py3env/lib/python3.5/site-packages/matplotlib/font_manager.py:1320: UserWarning: findfont: Font family ['sans-serif'] not found. Falling back to DejaVu Sans\n",
      "  (prop.get_family(), self.defaultFamily[fontext]))\n"
     ]
    },
    {
     "data": {
      "image/png": "[encoded data removed]",
      "text/plain": [
       "<matplotlib.figure.Figure at 0x7f43c31b9a58>"
      ]
     },
     "metadata": {},
     "output_type": "display_data"
    },
    {
     "name": "stdout",
     "output_type": "stream",
     "text": [
      "Plotting feature importances...\n"
     ]
    },
    {
     "data": {
      "image/png": "[encoded data removed]",
      "text/plain": [
       "<matplotlib.figure.Figure at 0x7f43a6271588>"
      ]
     },
     "metadata": {},
     "output_type": "display_data"
    }
   ],
   "source": [
    "# 訓練・テストデータの設定\n",
    "import lightgbm as lgb\n",
    "train_data = lgb.Dataset(train_x_1, label=train_y)\n",
    "eval_data = lgb.Dataset(val_x_1, label=val_y, reference= train_data)\n",
    "\n",
    "params={\"objective\": \"binary\",\n",
    "        \"boosting_type\": \"gbdt\",\n",
    "        'feature_fraction': 0.27914384688479543, \n",
    "        'max_depth': 73, \n",
    "        \"max_bin\": 256,\n",
    "        'min_child_weight': 9, \n",
    "        'subsample': 0.9878747678936071, \n",
    "        'min_data_in_leaf': 428, \n",
    "        'num_leaves': 76, \n",
    "        'min_child_samples': 310, \n",
    "        'learning_rate': 0.641945204259818, \n",
    "        'drop_rate': 0.9931413183540156, \n",
    "        'lambda_l1': 6,\n",
    "        \"verbose\": 2,\n",
    "        \"is_unbalance\": False,\n",
    "        \"max_drop\": 50,\n",
    "        \"min_split_gain\": 0,\n",
    "        \"verbosity\":-1\n",
    "       }\n",
    "params['metric'] = 'auc'\n",
    "evals_result = {}  # to record eval results for plotting\n",
    "model = lgb.train(params, train_data, valid_sets=eval_data,evals_result=evals_result, fobj=focal_loss, feval=focal_loss_eval)\n",
    "print('Plotting metrics recorded during training...')\n",
    "ax = lgb.plot_metric(evals_result, metric='auc')\n",
    "plt.show()\n",
    "print('Plotting feature importances...')\n",
    "ax = lgb.plot_importance(model, max_num_features=10)\n",
    "plt.show()\n",
    "y_pred = model.predict(test_x_1, num_iteration=model.best_iteration)"
   ]
  },
  {
   "cell_type": "code",
   "execution_count": 70,
   "metadata": {},
   "outputs": [
    {
     "name": "stdout",
     "output_type": "stream",
     "text": [
      "0.7833820015817721\n"
     ]
    }
   ],
   "source": [
    "print(roc_auc_score(test_y, y_pred))"
   ]
  },
  {
   "cell_type": "code",
   "execution_count": 71,
   "metadata": {},
   "outputs": [
    {
     "name": "stderr",
     "output_type": "stream",
     "text": [
      "/usr/local/envs/py3env/lib/python3.5/site-packages/ipykernel/__main__.py:18: DeprecationWarning: \n",
      ".ix is deprecated. Please use\n",
      ".loc for label based indexing or\n",
      ".iloc for positional indexing\n",
      "\n",
      "See the documentation here:\n",
      "http://pandas.pydata.org/pandas-docs/stable/indexing.html#ix-indexer-is-deprecated\n"
     ]
    },
    {
     "name": "stdout",
     "output_type": "stream",
     "text": [
      "[-1.8443757714146642]\n"
     ]
    },
    {
     "data": {
      "text/plain": [
       "array([[13012,  4977],\n",
       "       [  557,  1454]])"
      ]
     },
     "execution_count": 71,
     "metadata": {},
     "output_type": "execute_result"
    }
   ],
   "source": [
    "from sklearn.metrics import roc_curve, auc\n",
    "def Find_Optimal_Cutoff(target, predicted):\n",
    "    \"\"\" Find the optimal probability cutoff point for a classification model related to event rate\n",
    "    Parameters\n",
    "    ----------\n",
    "    target : Matrix with dependent or target data, where rows are observations\n",
    "\n",
    "    predicted : Matrix with predicted data, where rows are observations\n",
    "\n",
    "    Returns\n",
    "    -------     \n",
    "    list type, with optimal cutoff value\n",
    "\n",
    "    \"\"\"\n",
    "    fpr, tpr, threshold = roc_curve(target, predicted)\n",
    "    i = np.arange(len(tpr)) \n",
    "    roc = pd.DataFrame({'tf' : pd.Series(tpr-(1-fpr), index=i), 'threshold' : pd.Series(threshold, index=i)})\n",
    "    roc_t = roc.ix[(roc.tf-0).abs().argsort()[:1]]\n",
    "\n",
    "    return list(roc_t['threshold']) \n",
    "\n",
    "# Find optimal probability threshold\n",
    "threshold = Find_Optimal_Cutoff(test_y, y_pred)\n",
    "print (threshold)\n",
    "# [0.31762762459360921]\n",
    "\n",
    "# Find prediction to the dataframe applying threshold\n",
    "pred = []\n",
    "for i in y_pred:\n",
    "  if i>threshold:\n",
    "    pred.append(1)\n",
    "  else:\n",
    "    pred.append(0)\n",
    "\n",
    "# Print confusion Matrix\n",
    "from sklearn.metrics import confusion_matrix\n",
    "confusion_matrix(test_y, pred)"
   ]
  },
  {
   "cell_type": "code",
   "execution_count": 72,
   "metadata": {},
   "outputs": [
    {
     "name": "stderr",
     "output_type": "stream",
     "text": [
      "/usr/local/envs/py3env/lib/python3.5/site-packages/matplotlib/font_manager.py:1320: UserWarning: findfont: Font family ['sans-serif'] not found. Falling back to DejaVu Sans\n",
      "  (prop.get_family(), self.defaultFamily[fontext]))\n"
     ]
    },
    {
     "data": {
      "image/png": "[encoded data removed]",
      "text/plain": [
       "<matplotlib.figure.Figure at 0x7f43b6bb16a0>"
      ]
     },
     "metadata": {},
     "output_type": "display_data"
    }
   ],
   "source": [
    "import pylab as pl\n",
    "from sklearn import metrics\n",
    "# FPR, TPR(, しきい値) を算出\n",
    "roc_p = metrics.roc_curve(test_y, y_pred, drop_intermediate=False)\n",
    "x = np.random.rand(len(test_y))\n",
    "y = x\n",
    "plt.plot(roc_p[0], roc_p[1],linestyle='-')\n",
    "plt.plot(x, y)\n",
    "plt.xlabel('FPR: False positive rate')\n",
    "plt.ylabel('TPR: True positive rate')\n",
    "plt.grid()"
   ]
  },
  {
   "cell_type": "code",
   "execution_count": 73,
   "metadata": {},
   "outputs": [
    {
     "name": "stderr",
     "output_type": "stream",
     "text": [
      "/usr/local/envs/py3env/lib/python3.5/site-packages/matplotlib/font_manager.py:1320: UserWarning: findfont: Font family ['sans-serif'] not found. Falling back to DejaVu Sans\n",
      "  (prop.get_family(), self.defaultFamily[fontext]))\n"
     ]
    },
    {
     "data": {
      "image/png": "[encoded data removed]",
      "text/plain": [
       "<matplotlib.figure.Figure at 0x7f43a632e6d8>"
      ]
     },
     "metadata": {},
     "output_type": "display_data"
    },
    {
     "name": "stdout",
     "output_type": "stream",
     "text": [
      "AUC(PR):0.3140476109201925\n"
     ]
    }
   ],
   "source": [
    "# precision-recall curve and f1\n",
    "from sklearn.metrics import precision_recall_curve\n",
    "from sklearn.metrics import auc\n",
    "from matplotlib import pyplot\n",
    "import random\n",
    "# generate a no skill prediction (majority class)\n",
    "no_skill_probs = [i for i in np.random.rand(len(test_y))]\n",
    "# calculate precision and recall for each threshold\n",
    "ns_precision, ns_recall, _ = precision_recall_curve(test_y, no_skill_probs)\n",
    "lr_precision, lr_recall, _ = precision_recall_curve(test_y, y_pred)\n",
    "\n",
    "# plot the precision-recall curves\n",
    "pyplot.plot(ns_recall, ns_precision, linestyle='--', label='No Skill')\n",
    "pyplot.plot(lr_recall, lr_precision, linestyle='-', label='Logistic')\n",
    "# axis labels\n",
    "pyplot.xlabel('Recall')\n",
    "pyplot.ylabel('Precision')\n",
    "# show the legend\n",
    "pyplot.legend()\n",
    "# show the plot\n",
    "pyplot.show()\n",
    "from sklearn.metrics import auc\n",
    "print(\"AUC(PR):%s\" %str(auc(lr_recall, lr_precision)))"
   ]
  },
  {
   "cell_type": "markdown",
   "metadata": {},
   "source": [
    "# Under sampling"
   ]
  },
  {
   "cell_type": "code",
   "execution_count": 11,
   "metadata": {},
   "outputs": [],
   "source": [
    "# Class count\n",
    "train = df_final.iloc[0:int(num_data*0.8),:]\n",
    "count_class_0, count_class_1 = train.click_flg.value_counts()\n",
    "# Divide by class\n",
    "df_class_0 = train[train['click_flg'] == 0]\n",
    "df_class_1 = train[train['click_flg'] == 1]\n",
    "df_class_0_under = df_class_0.sample(int(count_class_1*2))\n",
    "df_train_under = pd.concat([df_class_0_under, df_class_1], axis=0)"
   ]
  },
  {
   "cell_type": "code",
   "execution_count": 12,
   "metadata": {},
   "outputs": [],
   "source": [
    "num_data=len(df_final)\n",
    "feature_cols = ['browser',\n",
    "       'slot_id', 'sponsor_id', 'campaign_id', 'creative_id',\n",
    "       'region', 'fq', 'recency', 'inview_recency', 'request_hour',\n",
    "       'request_day']\n",
    "label_col = \"click_flg\"\n",
    "train_features = df_train_under[feature_cols]\n",
    "train_labels = df_train_under[label_col]\n",
    "features = df_final[feature_cols]\n",
    "labels = df_final[label_col]\n",
    "train_x = train_features\n",
    "val_x = features.iloc[int(num_data*0.8):int(num_data*0.9),:]\n",
    "test_x = features.iloc[int(num_data*0.9):num_data,:]\n",
    "train_y = train_labels\n",
    "val_y = labels[int(num_data*0.8):int(num_data*0.9)]\n",
    "test_y = labels[int(num_data*0.9):num_data]"
   ]
  },
  {
   "cell_type": "code",
   "execution_count": 13,
   "metadata": {},
   "outputs": [],
   "source": [
    "list_cols = ['browser',\n",
    "       'slot_id', 'sponsor_id', 'campaign_id', 'creative_id',\n",
    "       'region', 'request_hour',\n",
    "       'request_day']\n",
    "\n",
    "#list_cols = ['slot_id']\n",
    "\n",
    "te = TargetEncoding_ws(list_cols=list_cols, k=300, impute=True)\n",
    "te.fit(train_x, train_y)\n",
    "train_x_1 = te.transform(train_x)\n",
    "val_x_1 = te.transform(val_x)\n",
    "test_x_1 = te.transform(test_x)"
   ]
  },
  {
   "cell_type": "code",
   "execution_count": 14,
   "metadata": {},
   "outputs": [
    {
     "name": "stdout",
     "output_type": "stream",
     "text": [
      "[1]\tvalid_0's auc: 0.671949\tvalid_0's focal_loss: 0.132844\n",
      "[2]\tvalid_0's auc: 0.781115\tvalid_0's focal_loss: 0.0948962\n",
      "[3]\tvalid_0's auc: 0.77652\tvalid_0's focal_loss: 0.0807832\n",
      "[4]\tvalid_0's auc: 0.787067\tvalid_0's focal_loss: 0.0749396\n",
      "[5]\tvalid_0's auc: 0.786539\tvalid_0's focal_loss: 0.0723644\n",
      "[6]\tvalid_0's auc: 0.787327\tvalid_0's focal_loss: 0.071334\n",
      "[7]\tvalid_0's auc: 0.787117\tvalid_0's focal_loss: 0.0714917\n",
      "[8]\tvalid_0's auc: 0.788493\tvalid_0's focal_loss: 0.0713064\n",
      "[9]\tvalid_0's auc: 0.788474\tvalid_0's focal_loss: 0.0715031\n",
      "[10]\tvalid_0's auc: 0.789101\tvalid_0's focal_loss: 0.0717723\n",
      "[11]\tvalid_0's auc: 0.789477\tvalid_0's focal_loss: 0.0714966\n",
      "[12]\tvalid_0's auc: 0.789743\tvalid_0's focal_loss: 0.0723024\n",
      "[13]\tvalid_0's auc: 0.78982\tvalid_0's focal_loss: 0.0729275\n",
      "[14]\tvalid_0's auc: 0.790282\tvalid_0's focal_loss: 0.0728399\n",
      "[15]\tvalid_0's auc: 0.790255\tvalid_0's focal_loss: 0.0728248\n",
      "[16]\tvalid_0's auc: 0.790632\tvalid_0's focal_loss: 0.0729603\n",
      "[17]\tvalid_0's auc: 0.791056\tvalid_0's focal_loss: 0.0728584\n",
      "[18]\tvalid_0's auc: 0.791148\tvalid_0's focal_loss: 0.0727994\n",
      "[19]\tvalid_0's auc: 0.790971\tvalid_0's focal_loss: 0.0730091\n",
      "[20]\tvalid_0's auc: 0.791046\tvalid_0's focal_loss: 0.0729358\n",
      "[21]\tvalid_0's auc: 0.791224\tvalid_0's focal_loss: 0.0731529\n",
      "[22]\tvalid_0's auc: 0.791204\tvalid_0's focal_loss: 0.0733126\n",
      "[23]\tvalid_0's auc: 0.791244\tvalid_0's focal_loss: 0.0733164\n",
      "[24]\tvalid_0's auc: 0.791233\tvalid_0's focal_loss: 0.0732886\n",
      "[25]\tvalid_0's auc: 0.791246\tvalid_0's focal_loss: 0.0732738\n",
      "[26]\tvalid_0's auc: 0.790994\tvalid_0's focal_loss: 0.0733843\n",
      "[27]\tvalid_0's auc: 0.791063\tvalid_0's focal_loss: 0.0733944\n",
      "[28]\tvalid_0's auc: 0.791069\tvalid_0's focal_loss: 0.0733799\n",
      "[29]\tvalid_0's auc: 0.791079\tvalid_0's focal_loss: 0.0736108\n",
      "[30]\tvalid_0's auc: 0.791158\tvalid_0's focal_loss: 0.0734699\n",
      "[31]\tvalid_0's auc: 0.791204\tvalid_0's focal_loss: 0.073372\n",
      "[32]\tvalid_0's auc: 0.791206\tvalid_0's focal_loss: 0.0734599\n",
      "[33]\tvalid_0's auc: 0.79118\tvalid_0's focal_loss: 0.0733514\n",
      "[34]\tvalid_0's auc: 0.791173\tvalid_0's focal_loss: 0.0733739\n",
      "[35]\tvalid_0's auc: 0.79114\tvalid_0's focal_loss: 0.0735033\n",
      "[36]\tvalid_0's auc: 0.791139\tvalid_0's focal_loss: 0.0735001\n",
      "[37]\tvalid_0's auc: 0.791107\tvalid_0's focal_loss: 0.073476\n",
      "[38]\tvalid_0's auc: 0.791166\tvalid_0's focal_loss: 0.0734993\n",
      "[39]\tvalid_0's auc: 0.79107\tvalid_0's focal_loss: 0.0735112\n",
      "[40]\tvalid_0's auc: 0.791215\tvalid_0's focal_loss: 0.0735074\n",
      "[41]\tvalid_0's auc: 0.791197\tvalid_0's focal_loss: 0.0735133\n",
      "[42]\tvalid_0's auc: 0.791185\tvalid_0's focal_loss: 0.0735036\n",
      "[43]\tvalid_0's auc: 0.791205\tvalid_0's focal_loss: 0.0735035\n",
      "[44]\tvalid_0's auc: 0.791218\tvalid_0's focal_loss: 0.0735032\n",
      "[45]\tvalid_0's auc: 0.79124\tvalid_0's focal_loss: 0.0735113\n",
      "[46]\tvalid_0's auc: 0.79124\tvalid_0's focal_loss: 0.0734185\n",
      "[47]\tvalid_0's auc: 0.791248\tvalid_0's focal_loss: 0.0734542\n",
      "[48]\tvalid_0's auc: 0.79124\tvalid_0's focal_loss: 0.0733878\n",
      "[49]\tvalid_0's auc: 0.791267\tvalid_0's focal_loss: 0.0733984\n",
      "[50]\tvalid_0's auc: 0.791257\tvalid_0's focal_loss: 0.0734284\n",
      "[51]\tvalid_0's auc: 0.791292\tvalid_0's focal_loss: 0.0734404\n",
      "[52]\tvalid_0's auc: 0.791293\tvalid_0's focal_loss: 0.0734427\n",
      "[53]\tvalid_0's auc: 0.791304\tvalid_0's focal_loss: 0.0734464\n",
      "[54]\tvalid_0's auc: 0.791306\tvalid_0's focal_loss: 0.0734543\n",
      "[55]\tvalid_0's auc: 0.791306\tvalid_0's focal_loss: 0.0734543\n",
      "[56]\tvalid_0's auc: 0.791306\tvalid_0's focal_loss: 0.0734543\n",
      "[57]\tvalid_0's auc: 0.791306\tvalid_0's focal_loss: 0.0734543\n",
      "[58]\tvalid_0's auc: 0.791306\tvalid_0's focal_loss: 0.0734543\n",
      "[59]\tvalid_0's auc: 0.791306\tvalid_0's focal_loss: 0.0734543\n",
      "[60]\tvalid_0's auc: 0.791306\tvalid_0's focal_loss: 0.0734543\n",
      "[61]\tvalid_0's auc: 0.791306\tvalid_0's focal_loss: 0.0734543\n",
      "[62]\tvalid_0's auc: 0.791306\tvalid_0's focal_loss: 0.0734543\n",
      "[63]\tvalid_0's auc: 0.791307\tvalid_0's focal_loss: 0.0734578\n",
      "[64]\tvalid_0's auc: 0.791309\tvalid_0's focal_loss: 0.0734565\n",
      "[65]\tvalid_0's auc: 0.791309\tvalid_0's focal_loss: 0.0734565\n",
      "[66]\tvalid_0's auc: 0.791309\tvalid_0's focal_loss: 0.0734565\n",
      "[67]\tvalid_0's auc: 0.791309\tvalid_0's focal_loss: 0.0734565\n",
      "[68]\tvalid_0's auc: 0.791309\tvalid_0's focal_loss: 0.0734565\n",
      "[69]\tvalid_0's auc: 0.791309\tvalid_0's focal_loss: 0.0734565\n",
      "[70]\tvalid_0's auc: 0.79131\tvalid_0's focal_loss: 0.0734559\n",
      "[71]\tvalid_0's auc: 0.79131\tvalid_0's focal_loss: 0.0734562\n",
      "[72]\tvalid_0's auc: 0.79131\tvalid_0's focal_loss: 0.0734562\n",
      "[73]\tvalid_0's auc: 0.79131\tvalid_0's focal_loss: 0.0734562\n",
      "[74]\tvalid_0's auc: 0.79131\tvalid_0's focal_loss: 0.0734562\n",
      "[75]\tvalid_0's auc: 0.791312\tvalid_0's focal_loss: 0.0734561\n",
      "[76]\tvalid_0's auc: 0.791312\tvalid_0's focal_loss: 0.0734561\n",
      "[77]\tvalid_0's auc: 0.791312\tvalid_0's focal_loss: 0.0734561\n",
      "[78]\tvalid_0's auc: 0.791312\tvalid_0's focal_loss: 0.0734561\n",
      "[79]\tvalid_0's auc: 0.791312\tvalid_0's focal_loss: 0.0734561\n",
      "[80]\tvalid_0's auc: 0.791312\tvalid_0's focal_loss: 0.0734561\n",
      "[81]\tvalid_0's auc: 0.791312\tvalid_0's focal_loss: 0.0734561\n",
      "[82]\tvalid_0's auc: 0.791312\tvalid_0's focal_loss: 0.0734561\n",
      "[83]\tvalid_0's auc: 0.791312\tvalid_0's focal_loss: 0.0734561\n",
      "[84]\tvalid_0's auc: 0.791312\tvalid_0's focal_loss: 0.0734561\n",
      "[85]\tvalid_0's auc: 0.791312\tvalid_0's focal_loss: 0.0734561\n",
      "[86]\tvalid_0's auc: 0.791312\tvalid_0's focal_loss: 0.0734561\n",
      "[87]\tvalid_0's auc: 0.791312\tvalid_0's focal_loss: 0.0734561\n",
      "[88]\tvalid_0's auc: 0.791312\tvalid_0's focal_loss: 0.0734561\n",
      "[89]\tvalid_0's auc: 0.791312\tvalid_0's focal_loss: 0.0734561\n",
      "[90]\tvalid_0's auc: 0.791312\tvalid_0's focal_loss: 0.0734561\n",
      "[91]\tvalid_0's auc: 0.791312\tvalid_0's focal_loss: 0.0734561\n",
      "[92]\tvalid_0's auc: 0.791312\tvalid_0's focal_loss: 0.0734561\n",
      "[93]\tvalid_0's auc: 0.791312\tvalid_0's focal_loss: 0.0734561\n",
      "[94]\tvalid_0's auc: 0.791312\tvalid_0's focal_loss: 0.0734561\n",
      "[95]\tvalid_0's auc: 0.791312\tvalid_0's focal_loss: 0.0734561\n",
      "[96]\tvalid_0's auc: 0.791312\tvalid_0's focal_loss: 0.0734561\n",
      "[97]\tvalid_0's auc: 0.791312\tvalid_0's focal_loss: 0.0734561\n",
      "[98]\tvalid_0's auc: 0.791312\tvalid_0's focal_loss: 0.0734561\n",
      "[99]\tvalid_0's auc: 0.791312\tvalid_0's focal_loss: 0.0734561\n",
      "[100]\tvalid_0's auc: 0.791312\tvalid_0's focal_loss: 0.0734561\n",
      "Plotting metrics recorded during training...\n"
     ]
    },
    {
     "name": "stderr",
     "output_type": "stream",
     "text": [
      "/usr/local/envs/py3env/lib/python3.5/site-packages/matplotlib/font_manager.py:1320: UserWarning: findfont: Font family ['sans-serif'] not found. Falling back to DejaVu Sans\n",
      "  (prop.get_family(), self.defaultFamily[fontext]))\n"
     ]
    },
    {
     "data": {
      "image/png": "[encoded data removed]",
      "text/plain": [
       "<matplotlib.figure.Figure at 0x7f0c3ad0bbe0>"
      ]
     },
     "metadata": {},
     "output_type": "display_data"
    },
    {
     "name": "stdout",
     "output_type": "stream",
     "text": [
      "Plotting feature importances...\n"
     ]
    },
    {
     "data": {
      "image/png": "[encoded data removed]",
      "text/plain": [
       "<matplotlib.figure.Figure at 0x7f0c3ac368d0>"
      ]
     },
     "metadata": {},
     "output_type": "display_data"
    }
   ],
   "source": [
    "# 訓練・テストデータの設定\n",
    "import lightgbm as lgb\n",
    "train_data = lgb.Dataset(train_x_1, label=train_y)\n",
    "eval_data = lgb.Dataset(val_x_1, label=val_y, reference= train_data)\n",
    "\n",
    "params={\"objective\": \"binary\",\n",
    "        \"boosting_type\": \"gbdt\",\n",
    "        'feature_fraction': 0.27914384688479543, \n",
    "        'max_depth': 73, \n",
    "        \"max_bin\": 256,\n",
    "        'min_child_weight': 9, \n",
    "        'subsample': 0.9878747678936071, \n",
    "        'min_data_in_leaf': 428, \n",
    "        'num_leaves': 76, \n",
    "        'min_child_samples': 310, \n",
    "        'learning_rate': 0.641945204259818, \n",
    "        'drop_rate': 0.9931413183540156, \n",
    "        'lambda_l1': 6,\n",
    "        \"verbose\": 2,\n",
    "        \"is_unbalance\": False,\n",
    "        \"max_drop\": 50,\n",
    "        \"min_split_gain\": 0,\n",
    "        \"verbosity\":-1\n",
    "       }\n",
    "params['metric'] = 'auc'\n",
    "evals_result = {}  # to record eval results for plotting\n",
    "model = lgb.train(params, train_data, valid_sets=eval_data,evals_result=evals_result, fobj=focal_loss, feval=focal_loss_eval)\n",
    "print('Plotting metrics recorded during training...')\n",
    "ax = lgb.plot_metric(evals_result, metric='auc')\n",
    "plt.show()\n",
    "print('Plotting feature importances...')\n",
    "ax = lgb.plot_importance(model, max_num_features=10)\n",
    "plt.show()\n",
    "y_pred = model.predict(test_x_1, num_iteration=model.best_iteration)"
   ]
  },
  {
   "cell_type": "code",
   "execution_count": 15,
   "metadata": {},
   "outputs": [
    {
     "name": "stdout",
     "output_type": "stream",
     "text": [
      "0.7861752854712942\n"
     ]
    }
   ],
   "source": [
    "print(roc_auc_score(test_y, y_pred))"
   ]
  },
  {
   "cell_type": "code",
   "execution_count": 16,
   "metadata": {},
   "outputs": [
    {
     "name": "stderr",
     "output_type": "stream",
     "text": [
      "/usr/local/envs/py3env/lib/python3.5/site-packages/matplotlib/font_manager.py:1320: UserWarning: findfont: Font family ['sans-serif'] not found. Falling back to DejaVu Sans\n",
      "  (prop.get_family(), self.defaultFamily[fontext]))\n"
     ]
    },
    {
     "data": {
      "image/png": "[encoded data removed]",
      "text/plain": [
       "<matplotlib.figure.Figure at 0x7f0c3abf13c8>"
      ]
     },
     "metadata": {},
     "output_type": "display_data"
    },
    {
     "name": "stdout",
     "output_type": "stream",
     "text": [
      "AUC(PR):0.3093812653591718\n"
     ]
    }
   ],
   "source": [
    "# precision-recall curve and f1\n",
    "from sklearn.metrics import precision_recall_curve\n",
    "from sklearn.metrics import auc\n",
    "from matplotlib import pyplot\n",
    "import random\n",
    "# generate a no skill prediction (majority class)\n",
    "no_skill_probs = [i for i in np.random.rand(len(test_y))]\n",
    "# calculate precision and recall for each threshold\n",
    "ns_precision, ns_recall, _ = precision_recall_curve(test_y, no_skill_probs)\n",
    "lr_precision, lr_recall, _ = precision_recall_curve(test_y, y_pred)\n",
    "\n",
    "# plot the precision-recall curves\n",
    "pyplot.plot(ns_recall, ns_precision, linestyle='--', label='No Skill')\n",
    "pyplot.plot(lr_recall, lr_precision, linestyle='-', label='Logistic')\n",
    "# axis labels\n",
    "pyplot.xlabel('Recall')\n",
    "pyplot.ylabel('Precision')\n",
    "# show the legend\n",
    "pyplot.legend()\n",
    "# show the plot\n",
    "pyplot.show()\n",
    "from sklearn.metrics import auc\n",
    "print(\"AUC(PR):%s\" %str(auc(lr_recall, lr_precision)))"
   ]
  },
  {
   "cell_type": "code",
   "execution_count": 22,
   "metadata": {},
   "outputs": [
    {
     "name": "stderr",
     "output_type": "stream",
     "text": [
      "/usr/local/envs/py3env/lib/python3.5/site-packages/ipykernel/__main__.py:18: DeprecationWarning: \n",
      ".ix is deprecated. Please use\n",
      ".loc for label based indexing or\n",
      ".iloc for positional indexing\n",
      "\n",
      "See the documentation here:\n",
      "http://pandas.pydata.org/pandas-docs/stable/indexing.html#ix-indexer-is-deprecated\n"
     ]
    },
    {
     "name": "stdout",
     "output_type": "stream",
     "text": [
      "[-0.9541207428550728]\n"
     ]
    },
    {
     "data": {
      "text/plain": [
       "array([[13031,  4958],\n",
       "       [  555,  1456]])"
      ]
     },
     "execution_count": 22,
     "metadata": {},
     "output_type": "execute_result"
    }
   ],
   "source": [
    "from sklearn.metrics import roc_curve, auc\n",
    "def Find_Optimal_Cutoff(target, predicted):\n",
    "    \"\"\" Find the optimal probability cutoff point for a classification model related to event rate\n",
    "    Parameters\n",
    "    ----------\n",
    "    target : Matrix with dependent or target data, where rows are observations\n",
    "\n",
    "    predicted : Matrix with predicted data, where rows are observations\n",
    "\n",
    "    Returns\n",
    "    -------     \n",
    "    list type, with optimal cutoff value\n",
    "\n",
    "    \"\"\"\n",
    "    fpr, tpr, threshold = roc_curve(target, predicted)\n",
    "    i = np.arange(len(tpr)) \n",
    "    roc = pd.DataFrame({'tf' : pd.Series(tpr-(1-fpr), index=i), 'threshold' : pd.Series(threshold, index=i)})\n",
    "    roc_t = roc.ix[(roc.tf-0).abs().argsort()[:1]]\n",
    "\n",
    "    return list(roc_t['threshold']) \n",
    "\n",
    "# Find optimal probability threshold\n",
    "threshold = Find_Optimal_Cutoff(test_y, y_pred)\n",
    "print (threshold)\n",
    "# [0.31762762459360921]\n",
    "\n",
    "# Find prediction to the dataframe applying threshold\n",
    "pred = []\n",
    "for i in y_pred:\n",
    "  if i>threshold:\n",
    "    pred.append(1)\n",
    "  else:\n",
    "    pred.append(0)\n",
    "\n",
    "# Print confusion Matrix\n",
    "from sklearn.metrics import confusion_matrix\n",
    "confusion_matrix(test_y, pred)"
   ]
  },
  {
   "cell_type": "code",
   "execution_count": 23,
   "metadata": {},
   "outputs": [
    {
     "name": "stderr",
     "output_type": "stream",
     "text": [
      "/usr/local/envs/py3env/lib/python3.5/site-packages/ipykernel/__main__.py:18: DeprecationWarning: \n",
      ".ix is deprecated. Please use\n",
      ".loc for label based indexing or\n",
      ".iloc for positional indexing\n",
      "\n",
      "See the documentation here:\n",
      "http://pandas.pydata.org/pandas-docs/stable/indexing.html#ix-indexer-is-deprecated\n"
     ]
    },
    {
     "name": "stdout",
     "output_type": "stream",
     "text": [
      "[-0.05117394686522415]\n",
      "0.7868585169692768\n"
     ]
    },
    {
     "data": {
      "text/plain": [
       "array([[13031,  4958],\n",
       "       [  555,  1456]])"
      ]
     },
     "execution_count": 23,
     "metadata": {},
     "output_type": "execute_result"
    }
   ],
   "source": [
    "def probability_calibration(y_proba, beta):\n",
    "    \"\"\"サンプリングレートを元に確率を補正する\"\"\"\n",
    "    calibrated_proba = y_proba / (y_proba + (1 - y_proba) / beta)\n",
    "    return calibrated_proba\n",
    "train_y_all = labels[0:int(num_data*0.8)]\n",
    "# サンプリングレートを元に確率を補正する\n",
    "y_train_zero_len = train_y.sum()\n",
    "beta = y_train_zero_len / len(train_y_all)\n",
    "y_pred_proba_cb = probability_calibration(np.array(y_pred),beta)\n",
    "# Find optimal probability threshold\n",
    "threshold = Find_Optimal_Cutoff(test_y, y_pred_proba_cb)\n",
    "print (threshold)\n",
    "\n",
    "# Find prediction to the dataframe applying threshold\n",
    "pred_cb = []\n",
    "for i in y_pred_proba_cb:\n",
    "  if i>threshold:\n",
    "    pred_cb.append(1)\n",
    "  else:\n",
    "    pred_cb.append(0)\n",
    "print(roc_auc_score(test_y, y_pred_proba_cb))\n",
    "# Print confusion Matrix\n",
    "from sklearn.metrics import confusion_matrix\n",
    "confusion_matrix(test_y, pred_cb)\n"
   ]
  },
  {
   "cell_type": "markdown",
   "metadata": {},
   "source": [
    "# Under Bagging"
   ]
  },
  {
   "cell_type": "code",
   "execution_count": 17,
   "metadata": {},
   "outputs": [],
   "source": [
    "from sklearn.model_selection import train_test_split\n",
    "from sklearn.model_selection import BaseCrossValidator"
   ]
  },
  {
   "cell_type": "code",
   "execution_count": 18,
   "metadata": {},
   "outputs": [],
   "source": [
    "num_data=len(df_final)\n",
    "feature_cols = ['browser',\n",
    "       'slot_id', 'sponsor_id', 'campaign_id', 'creative_id',\n",
    "       'region', 'fq', 'recency', 'inview_recency', 'request_hour',\n",
    "       'request_day']\n",
    "label_col = \"click_flg\"\n",
    "features = df_final[feature_cols]\n",
    "labels = df_final[label_col]\n",
    "train_x = features.iloc[0:int(num_data*0.8),:]\n",
    "val_x = features.iloc[int(num_data*0.8):int(num_data*0.9),:]\n",
    "test_x = features.iloc[int(num_data*0.9):num_data,:]\n",
    "train_y = labels[0:int(num_data*0.8)]\n",
    "val_y = labels[int(num_data*0.8):int(num_data*0.9)]\n",
    "test_y = labels[int(num_data*0.9):num_data]\n",
    "te = TargetEncoding_ws(list_cols=list_cols, k=300, impute=True)\n",
    "te.fit(train_x, train_y)\n",
    "train_x_1 = te.transform(train_x)\n",
    "val_x_1 = te.transform(val_x)\n",
    "test_x_1 = te.transform(test_x)"
   ]
  },
  {
   "cell_type": "code",
   "execution_count": 19,
   "metadata": {},
   "outputs": [],
   "source": [
    "X = pd.concat([train_x_1, val_x_1, test_x_1])\n",
    "y = pd.concat([train_y, val_y, test_y])"
   ]
  },
  {
   "cell_type": "code",
   "execution_count": 14,
   "metadata": {},
   "outputs": [
    {
     "data": {
      "text/plain": [
       "200000"
      ]
     },
     "execution_count": 14,
     "metadata": {},
     "output_type": "execute_result"
    }
   ],
   "source": [
    "len(X)"
   ]
  },
  {
   "cell_type": "code",
   "execution_count": 20,
   "metadata": {
    "codeCollapsed": true
   },
   "outputs": [],
   "source": [
    "class ModelExtractionCallback(object):\n",
    "    '''lightgbm.cv() から学習済みモデルを取り出すためのコールバックに使うクラス\n",
    "\n",
    "    NOTE: 非公開クラス '_CVBooster' に依存しているため将来的に動かなく恐れがある\n",
    "    '''\n",
    "\n",
    "    def __init__(self):\n",
    "        self._model = None\n",
    "\n",
    "    def __call__(self, env):\n",
    "        # _CVBooster の参照を保持する\n",
    "        self._model = env.model\n",
    "\n",
    "    def _assert_called_cb(self):\n",
    "        if self._model is None:\n",
    "            # コールバックが呼ばれていないときは例外にする\n",
    "            raise RuntimeError('callback has not called yet')\n",
    "\n",
    "    @property\n",
    "    def boosters_proxy(self):\n",
    "        self._assert_called_cb()\n",
    "        # Booster へのプロキシオブジェクトを返す\n",
    "        return self._model\n",
    "\n",
    "    @property\n",
    "    def raw_boosters(self):\n",
    "        self._assert_called_cb()\n",
    "        # Booster のリストを返す\n",
    "        return self._model.boosters\n",
    "\n",
    "    @property\n",
    "    def best_iteration(self):\n",
    "        self._assert_called_cb()\n",
    "        # Early stop したときの boosting round を返す\n",
    "        return self._model.best_iteration"
   ]
  },
  {
   "cell_type": "code",
   "execution_count": 21,
   "metadata": {},
   "outputs": [],
   "source": [
    "import lightgbm.engine"
   ]
  },
  {
   "cell_type": "code",
   "execution_count": 22,
   "metadata": {},
   "outputs": [],
   "source": [
    "from lightgbm.basic import Booster"
   ]
  },
  {
   "cell_type": "code",
   "execution_count": 23,
   "metadata": {},
   "outputs": [],
   "source": [
    "class CVBooster(object):\n",
    "    \"\"\"\"Auxiliary data struct to hold all boosters of CV.\"\"\"\n",
    "    def __init__(self):\n",
    "        self.boosters = []\n",
    "        self.best_iteration = -1\n",
    "\n",
    "    def append(self, booster):\n",
    "        \"\"\"add a booster to CVBooster\"\"\"\n",
    "        self.boosters.append(booster)\n",
    "\n",
    "    def __getattr__(self, name):\n",
    "        \"\"\"redirect methods call of CVBooster\"\"\"\n",
    "        def handlerFunction(*args, **kwargs):\n",
    "            \"\"\"call methods with each booster, and concatenate their results\"\"\"\n",
    "            ret = []\n",
    "            for booster in self.boosters:\n",
    "                ret.append(getattr(booster, name)(*args, **kwargs))\n",
    "            return ret\n",
    "        return handlerFunction"
   ]
  },
  {
   "cell_type": "code",
   "execution_count": 24,
   "metadata": {},
   "outputs": [],
   "source": [
    "def _make_n_folds(full_data, folds, nfold, params, seed, fpreproc=None, stratified=True,\n",
    "                  shuffle=True, eval_train_metric=False):\n",
    "    \"\"\"Make a n-fold list of Booster from random indices.\"\"\"\n",
    "    full_data = full_data.construct()\n",
    "    num_data = full_data.num_data()\n",
    "    if folds is not None:\n",
    "        if not hasattr(folds, '__iter__') and not hasattr(folds, 'split'):\n",
    "            raise AttributeError(\"folds should be a generator or iterator of (train_idx, test_idx) tuples \"\n",
    "                                 \"or scikit-learn splitter object with split method\")\n",
    "        if hasattr(folds, 'split'):\n",
    "            group_info = full_data.get_group()\n",
    "            if group_info is not None:\n",
    "                group_info = np.array(group_info, dtype=np.int32, copy=False)\n",
    "                flatted_group = np.repeat(range_(len(group_info)), repeats=group_info)\n",
    "            else:\n",
    "                flatted_group = np.zeros(num_data, dtype=np.int32)\n",
    "            folds = folds.split(X=np.zeros(num_data), y=full_data.get_label(), groups=flatted_group)\n",
    "\n",
    "\n",
    "    ret = CVBooster()\n",
    "    for train_idx, test_idx in folds:\n",
    "        train_set = full_data.subset(train_idx)\n",
    "        valid_set = full_data.subset(test_idx)\n",
    "        # run preprocessing on the data set if needed\n",
    "        if fpreproc is not None:\n",
    "            train_set, valid_set, tparam = fpreproc(train_set, valid_set, params.copy())\n",
    "        else:\n",
    "            tparam = params\n",
    "        cvbooster = Booster(tparam, train_set)\n",
    "        if eval_train_metric:\n",
    "            cvbooster.add_valid(train_set, 'train')\n",
    "        cvbooster.add_valid(valid_set, 'valid')\n",
    "        ret.append(cvbooster)\n",
    "    return ret"
   ]
  },
  {
   "cell_type": "code",
   "execution_count": 25,
   "metadata": {},
   "outputs": [],
   "source": [
    "lightgbm.engine._make_n_folds =  _make_n_folds"
   ]
  },
  {
   "cell_type": "code",
   "execution_count": 26,
   "metadata": {},
   "outputs": [],
   "source": [
    "class UnderBaggingKFold(BaseCrossValidator):\n",
    "    \"\"\"CV に使うだけで UnderBagging できる KFold 実装\n",
    "\n",
    "    NOTE: 少ないクラスのデータは各 Fold で重複して選択される\"\"\"\n",
    "\n",
    "    def __init__(self, n_splits=10, shuffle=True, random_states=None,\n",
    "                 test_size=0.2, whole_testing=False):\n",
    "        \"\"\"\n",
    "        :param n_splits: Fold の分割数\n",
    "        :param shuffle: 分割時にデータをシャッフルするか\n",
    "        :param random_states: 各 Fold の乱数シード\n",
    "        :param test_size: Under-sampling された中でテスト用データとして使う割合\n",
    "        :param whole_testing: Under-sampling で選ばれなかった全てのデータをテスト用データに追加するか\n",
    "        \"\"\"\n",
    "        self.n_splits = n_splits\n",
    "\n",
    "    def split(self, X, y=None, groups=None):\n",
    "        if X.ndim < 2:\n",
    "            # RandomUnderSampler#fit_resample() は X が 1d-array だと文句を言う\n",
    "            X = np.vstack(X)\n",
    "        # Class count\n",
    "        count_class_0, count_class_1 = y.value_counts()\n",
    "        X = pd.DataFrame(X)\n",
    "        y = pd.DataFrame(y)\n",
    "        all_data = pd.concat([X,y], axis = 1)\n",
    "        train_data = all_data.iloc[0:int(num_data*0.8),:]\n",
    "        test_indices = list(range(int(num_data*0.8),int(num_data*0.9)))\n",
    "        # Divide by class\n",
    "        df_class_0 = train_data[y == 0]\n",
    "        df_class_1 = train_data[y == 1]\n",
    "        for i in range(self.n_splits):\n",
    "          df_class_0_under = df_class_0.sample(int(count_class_1*2))\n",
    "          df_train_under = pd.concat([df_class_0_under, df_class_1], axis=0)\n",
    "          train_indices = df_train_under.index\n",
    "\n",
    "          yield np.array(train_indices), np.array(test_indices)\n",
    "\n",
    "    def get_n_splits(self, X=None, y=None, groups=None):\n",
    "        return self.n_splits"
   ]
  },
  {
   "cell_type": "code",
   "execution_count": 27,
   "metadata": {},
   "outputs": [],
   "source": [
    "folds = UnderBaggingKFold()"
   ]
  },
  {
   "cell_type": "code",
   "execution_count": 23,
   "metadata": {},
   "outputs": [],
   "source": [
    "# 訓練・テストデータの設定\n",
    "import lightgbm as lgb\n",
    "train_data = lgb.Dataset(X, y)\n",
    "\n",
    "params={\"objective\": \"binary\",\n",
    "        \"boosting_type\": \"gbdt\",\n",
    "        'feature_fraction': 0.27914384688479543, \n",
    "        'max_depth': 73, \n",
    "        \"max_bin\": 256,\n",
    "        'min_child_weight': 9, \n",
    "        'subsample': 0.9878747678936071, \n",
    "        'min_data_in_leaf': 428, \n",
    "        'num_leaves': 76, \n",
    "        'min_child_samples': 310, \n",
    "        'learning_rate': 0.641945204259818, \n",
    "        'drop_rate': 0.9931413183540156, \n",
    "        'lambda_l1': 6,\n",
    "        \"verbose\": 2,\n",
    "        \"is_unbalance\": False,\n",
    "        \"max_drop\": 50,\n",
    "        \"min_split_gain\": 0,\n",
    "        \"verbosity\":-1\n",
    "       }\n",
    "params['metric'] = 'auc'\n",
    "extraction_cb = ModelExtractionCallback()\n",
    "callbacks = [\n",
    "    extraction_cb,\n",
    "]\n",
    "lgb.cv(params, train_data, fobj=focal_loss, feval=focal_loss_eval,\n",
    "                        folds=folds,callbacks=callbacks)\n",
    "\n",
    "cv_booster = extraction_cb.boosters_proxy\n",
    "y_pred = cv_booster.predict(test_x_1)"
   ]
  },
  {
   "cell_type": "code",
   "execution_count": null,
   "metadata": {},
   "outputs": [],
   "source": []
  },
  {
   "cell_type": "code",
   "execution_count": 24,
   "metadata": {},
   "outputs": [],
   "source": [
    " y_pred = np.array(y_pred).mean(axis=0)"
   ]
  },
  {
   "cell_type": "code",
   "execution_count": 25,
   "metadata": {},
   "outputs": [
    {
     "name": "stdout",
     "output_type": "stream",
     "text": [
      "0.7848566582169296\n"
     ]
    },
    {
     "name": "stderr",
     "output_type": "stream",
     "text": [
      "/usr/local/envs/py3env/lib/python3.5/site-packages/matplotlib/font_manager.py:1320: UserWarning: findfont: Font family ['sans-serif'] not found. Falling back to DejaVu Sans\n",
      "  (prop.get_family(), self.defaultFamily[fontext]))\n"
     ]
    },
    {
     "data": {
      "image/png": "[encoded data removed]",
      "text/plain": [
       "<matplotlib.figure.Figure at 0x7f104993f0f0>"
      ]
     },
     "metadata": {},
     "output_type": "display_data"
    },
    {
     "name": "stdout",
     "output_type": "stream",
     "text": [
      "AUC(PR):0.31757227034194535\n"
     ]
    }
   ],
   "source": [
    "print(roc_auc_score(test_y, y_pred))\n",
    "# precision-recall curve and f1\n",
    "from sklearn.metrics import precision_recall_curve\n",
    "from sklearn.metrics import auc\n",
    "from matplotlib import pyplot\n",
    "import random\n",
    "# generate a no skill prediction (majority class)\n",
    "no_skill_probs = [i for i in np.random.rand(len(test_y))]\n",
    "# calculate precision and recall for each threshold\n",
    "ns_precision, ns_recall, _ = precision_recall_curve(test_y, no_skill_probs)\n",
    "lr_precision, lr_recall, _ = precision_recall_curve(test_y, y_pred)\n",
    "\n",
    "# plot the precision-recall curves\n",
    "pyplot.plot(ns_recall, ns_precision, linestyle='--', label='No Skill')\n",
    "pyplot.plot(lr_recall, lr_precision, linestyle='-', label='Logistic')\n",
    "# axis labels\n",
    "pyplot.xlabel('Recall')\n",
    "pyplot.ylabel('Precision')\n",
    "# show the legend\n",
    "pyplot.legend()\n",
    "# show the plot\n",
    "pyplot.show()\n",
    "from sklearn.metrics import auc\n",
    "print(\"AUC(PR):%s\" %str(auc(lr_recall, lr_precision)))"
   ]
  },
  {
   "cell_type": "code",
   "execution_count": 26,
   "metadata": {},
   "outputs": [],
   "source": [
    "y_pred_str = [str(n) for n in y_pred]\n",
    "with open('lightgbm.txt', 'w') as rd:\n",
    "    rd.writelines('\\n'.join(y_pred_str))"
   ]
  },
  {
   "cell_type": "code",
   "execution_count": null,
   "metadata": {},
   "outputs": [],
   "source": [
    "!pip install optuna"
   ]
  },
  {
   "cell_type": "code",
   "execution_count": null,
   "metadata": {},
   "outputs": [],
   "source": [
    "import optuna"
   ]
  },
  {
   "cell_type": "code",
   "execution_count": null,
   "metadata": {},
   "outputs": [],
   "source": []
  }
 ],
 "metadata": {
  "kernelspec": {
   "display_name": "Python 3",
   "language": "python",
   "name": "python3"
  },
  "language_info": {
   "codemirror_mode": {
    "name": "ipython",
    "version": 3
   },
   "file_extension": ".py",
   "mimetype": "text/x-python",
   "name": "python",
   "nbconvert_exporter": "python",
   "pygments_lexer": "ipython3",
   "version": "3.5.6"
  }
 },
 "nbformat": 4,
 "nbformat_minor": 2
}
