{
 "cells": [
  {
   "cell_type": "code",
   "execution_count": null,
   "metadata": {},
   "outputs": [],
   "source": [
    "import pandas as pd \n",
    "import numpy as np \n",
    "import matplotlib.pyplot as plt\n",
    "import seaborn as sns\n",
    "from sklearn.model_selection import train_test_split\n",
    "from sklearn.ensemble import RandomForestClassifier\n",
    "from sklearn.metrics import roc_auc_score "
   ]
  },
  {
   "cell_type": "code",
   "execution_count": null,
   "metadata": {},
   "outputs": [],
   "source": [
    "!pip install scikit-learn="
   ]
  },
  {
   "cell_type": "code",
   "execution_count": null,
   "metadata": {},
   "outputs": [],
   "source": [
    "df_rt = pd.read_csv(\"rt_4w_20190709.csv\")"
   ]
  },
  {
   "cell_type": "code",
   "execution_count": null,
   "metadata": {},
   "outputs": [],
   "source": [
    "df_sub = pd.read_csv(\"subcatlog_20190722.csv\")"
   ]
  },
  {
   "cell_type": "code",
   "execution_count": 66,
   "metadata": {},
   "outputs": [
    {
     "name": "stderr",
     "output_type": "stream",
     "text": [
      "/usr/local/envs/py3env/lib/python3.5/site-packages/IPython/core/interactiveshell.py:2785: DtypeWarning: Columns (16,18) have mixed types. Specify dtype option on import or set low_memory=False.\n",
      "  interactivity=interactivity, compiler=compiler, result=result)\n"
     ]
    }
   ],
   "source": [
    "df = pd.read_csv(\"subcatlog_20190722.csv\")\n",
    "#df[\"recency\"] = np.log(df[\"recency\"]+0.00001)\n",
    "#df[\"inview_recency\"] = np.log(df[\"inview_recency\"]+0.00001)\n",
    "# 欠損があるカラムをデフォルト値で埋める\n",
    "df[\"region\"] = df[\"region\"].fillna(-1).astype(int)\n",
    "\n",
    "# テーブルをLEFT JOINする(キー: req_id, sponsor_id)\n",
    "#df=df.merge(df_rt, on=[\"ssp_uid\", \"sponsor_id\"], how=\"left\")\n",
    "\n",
    "# カラムを日時として解釈しなおす\n",
    "df[\"request_time\"] = pd.to_datetime(df[\"request_time\"])"
   ]
  },
  {
   "cell_type": "code",
   "execution_count": 80,
   "metadata": {},
   "outputs": [],
   "source": [
    "df.loc[df[\"recency\"]==0, \"recency\"]=100000\n",
    "df.loc[df[\"inview_recency\"]==0, \"inview_recency\"]=100000"
   ]
  },
  {
   "cell_type": "code",
   "execution_count": 82,
   "metadata": {},
   "outputs": [],
   "source": [
    "df[\"recency\"] = np.log(df[\"recency\"])\n",
    "df[\"inview_recency\"] = np.log(df[\"inview_recency\"])"
   ]
  },
  {
   "cell_type": "code",
   "execution_count": 83,
   "metadata": {},
   "outputs": [
    {
     "data": {
      "text/plain": [
       "count    90093.000000\n",
       "mean         4.821323\n",
       "std          3.192922\n",
       "min          0.000000\n",
       "25%          2.639057\n",
       "50%          4.077537\n",
       "75%          6.202536\n",
       "max         11.512925\n",
       "Name: recency, dtype: float64"
      ]
     },
     "execution_count": 83,
     "metadata": {},
     "output_type": "execute_result"
    }
   ],
   "source": [
    "df[\"recency\"].describe()"
   ]
  },
  {
   "cell_type": "code",
   "execution_count": 24,
   "metadata": {},
   "outputs": [],
   "source": [
    "df[\"request_hour\"] = df[\"request_time\"].dt.hour\n",
    "df[\"request_month\"] = df[\"request_time\"].dt.month\n",
    "df[\"request_day\"] = df[\"request_time\"].dt.day\n",
    "df[\"request_dayofweek\"] = df[\"request_time\"].dt.dayofweek"
   ]
  },
  {
   "cell_type": "code",
   "execution_count": 25,
   "metadata": {},
   "outputs": [],
   "source": [
    " df = df.sort_values(by='request_time')"
   ]
  },
  {
   "cell_type": "code",
   "execution_count": 26,
   "metadata": {},
   "outputs": [],
   "source": [
    "num_data=len(df)"
   ]
  },
  {
   "cell_type": "code",
   "execution_count": 27,
   "metadata": {},
   "outputs": [],
   "source": [
    "train = df.iloc[0:int(num_data*0.8),:]\n",
    "test = df.iloc[int(num_data*0.8):len(df),:]"
   ]
  },
  {
   "cell_type": "code",
   "execution_count": 28,
   "metadata": {},
   "outputs": [
    {
     "name": "stdout",
     "output_type": "stream",
     "text": [
      "160000\n",
      "40000\n"
     ]
    }
   ],
   "source": [
    "print(str(len(train)))\n",
    "print(str(len(test)))"
   ]
  },
  {
   "cell_type": "code",
   "execution_count": 29,
   "metadata": {},
   "outputs": [],
   "source": [
    "import datetime as dt\n",
    "df_rt[\"request_time\"] = pd.to_datetime(df_rt[\"request_time\"])\n",
    "df_rt_train = df_rt[df_rt[\"request_time\"]<dt.datetime(2019,7,5,20,33,0)]"
   ]
  },
  {
   "cell_type": "code",
   "execution_count": 30,
   "metadata": {},
   "outputs": [],
   "source": [
    "h = df_rt_train.groupby([\"ssp_uid\",\"sponsor_id\"])[\"rt_status\"].sum()\n",
    "h=h.reset_index()\n",
    "h[\"rt_times\"] = h[\"rt_status\"]\n",
    "h=h.drop(\"rt_status\",axis=1)\n",
    "df = df.merge(h, on=[\"ssp_uid\", \"sponsor_id\"], how=\"left\")\n",
    "df = df.fillna(0)"
   ]
  },
  {
   "cell_type": "code",
   "execution_count": 31,
   "metadata": {},
   "outputs": [],
   "source": [
    "train_sub = df[df[\"request_time\"]<dt.datetime(2019,7,5,20,33,0)]\n",
    "unique_ad = train_sub.groupby([\"sponsor_id\",\"campaign_id\",\"creative_id\"])\n",
    "unique_contents = train_sub.groupby([\"sponsor_id\",\"campaign_id\"])\n",
    "region_contents = train_sub.groupby([\"sponsor_id\",\"campaign_id\",\"region\"])"
   ]
  },
  {
   "cell_type": "code",
   "execution_count": 32,
   "metadata": {},
   "outputs": [],
   "source": [
    "click_rate_by_contents = unique_ad[\"click_flg\"].mean().reset_index()\n",
    "click_rate_by_contents = click_rate_by_contents.rename(columns = {\"click_flg\":\"click_flg_0\"})\n",
    "cv_by_contents = unique_ad[\"cv_flg\"].mean().reset_index()\n",
    "cv_by_contents = cv_by_contents.rename(columns = {\"cv_flg\":\"cv_flg_0\"})\n",
    "click_rate_by_contents_1 = unique_contents[\"click_flg\"].mean().reset_index()\n",
    "click_rate_by_contents_1 = click_rate_by_contents_1.rename(columns = {\"click_flg\":\"click_flg_1\"})\n",
    "cv_by_contents_1 = unique_contents[\"cv_flg\"].mean().reset_index()\n",
    "cv_by_contents_1 = cv_by_contents_1.rename(columns = {\"cv_flg\":\"cv_flg_1\"})\n",
    "click_rate_by_contents_2 = region_contents[\"click_flg\"].mean().reset_index()\n",
    "click_rate_by_contents_2 = click_rate_by_contents_2.rename(columns = {\"click_flg\":\"click_flg_2\"})\n",
    "cv_by_contents_2 = region_contents[\"cv_flg\"].mean().reset_index()\n",
    "cv_by_contents_2 = cv_by_contents_2.rename(columns = {\"cv_flg\":\"cv_flg_2\"})"
   ]
  },
  {
   "cell_type": "code",
   "execution_count": 33,
   "metadata": {},
   "outputs": [],
   "source": [
    "df_final = df.merge(click_rate_by_contents, on=[\"sponsor_id\",\"campaign_id\",\"creative_id\"], how=\"left\")\n",
    "df_final = df_final.merge(cv_by_contents, on=[\"sponsor_id\",\"campaign_id\",\"creative_id\"], how=\"left\")\n",
    "df_final = df_final.merge(click_rate_by_contents_1, on=[\"sponsor_id\",\"campaign_id\"], how=\"left\")\n",
    "df_final = df_final.merge(cv_by_contents_1, on=[\"sponsor_id\",\"campaign_id\"], how=\"left\")\n",
    "df_final = df_final.merge(click_rate_by_contents_2, on=[\"sponsor_id\",\"campaign_id\",\"region\"], how=\"left\")\n",
    "df_final = df_final.merge(cv_by_contents_2, on=[\"sponsor_id\",\"campaign_id\",\"region\"], how=\"left\")"
   ]
  },
  {
   "cell_type": "code",
   "execution_count": 34,
   "metadata": {},
   "outputs": [],
   "source": [
    "df_final.to_csv(\"df_final.csv\")"
   ]
  },
  {
   "cell_type": "code",
   "execution_count": 36,
   "metadata": {},
   "outputs": [
    {
     "data": {
      "text/html": [
       "<div>\n",
       "<style scoped>\n",
       "    .dataframe tbody tr th:only-of-type {\n",
       "        vertical-align: middle;\n",
       "    }\n",
       "\n",
       "    .dataframe tbody tr th {\n",
       "        vertical-align: top;\n",
       "    }\n",
       "\n",
       "    .dataframe thead th {\n",
       "        text-align: right;\n",
       "    }\n",
       "</style>\n",
       "<table border=\"1\" class=\"dataframe\">\n",
       "  <thead>\n",
       "    <tr style=\"text-align: right;\">\n",
       "      <th></th>\n",
       "      <th>ssp_uid</th>\n",
       "      <th>carrier_name</th>\n",
       "      <th>slot_id</th>\n",
       "      <th>sponsor_id</th>\n",
       "      <th>campaign_id</th>\n",
       "      <th>creative_type</th>\n",
       "      <th>creative_id</th>\n",
       "      <th>region</th>\n",
       "      <th>fq</th>\n",
       "      <th>inview_fq</th>\n",
       "      <th>...</th>\n",
       "      <th>request_month</th>\n",
       "      <th>request_day</th>\n",
       "      <th>request_dayofweek</th>\n",
       "      <th>rt_times</th>\n",
       "      <th>click_flg_0</th>\n",
       "      <th>cv_flg_0</th>\n",
       "      <th>click_flg_1</th>\n",
       "      <th>cv_flg_1</th>\n",
       "      <th>click_flg_2</th>\n",
       "      <th>cv_flg_2</th>\n",
       "    </tr>\n",
       "  </thead>\n",
       "  <tbody>\n",
       "    <tr>\n",
       "      <th>count</th>\n",
       "      <td>2.000000e+05</td>\n",
       "      <td>2.000000e+05</td>\n",
       "      <td>2.000000e+05</td>\n",
       "      <td>2.000000e+05</td>\n",
       "      <td>2.000000e+05</td>\n",
       "      <td>2.000000e+05</td>\n",
       "      <td>2.000000e+05</td>\n",
       "      <td>2.000000e+05</td>\n",
       "      <td>200000.000000</td>\n",
       "      <td>200000.000000</td>\n",
       "      <td>...</td>\n",
       "      <td>200000.000000</td>\n",
       "      <td>200000.000000</td>\n",
       "      <td>200000.000000</td>\n",
       "      <td>200000.000000</td>\n",
       "      <td>199931.000000</td>\n",
       "      <td>199931.000000</td>\n",
       "      <td>199931.000000</td>\n",
       "      <td>199931.000000</td>\n",
       "      <td>199884.000000</td>\n",
       "      <td>199884.000000</td>\n",
       "    </tr>\n",
       "    <tr>\n",
       "      <th>mean</th>\n",
       "      <td>-2.828182e+15</td>\n",
       "      <td>-3.151998e+18</td>\n",
       "      <td>-2.979194e+17</td>\n",
       "      <td>-5.312828e+18</td>\n",
       "      <td>2.639002e+17</td>\n",
       "      <td>2.650965e+18</td>\n",
       "      <td>3.597165e+17</td>\n",
       "      <td>6.054026e+17</td>\n",
       "      <td>3.222790</td>\n",
       "      <td>0.121045</td>\n",
       "      <td>...</td>\n",
       "      <td>6.485390</td>\n",
       "      <td>16.392250</td>\n",
       "      <td>3.146965</td>\n",
       "      <td>0.150745</td>\n",
       "      <td>0.100488</td>\n",
       "      <td>0.000643</td>\n",
       "      <td>0.099871</td>\n",
       "      <td>0.000648</td>\n",
       "      <td>0.099981</td>\n",
       "      <td>0.000648</td>\n",
       "    </tr>\n",
       "    <tr>\n",
       "      <th>std</th>\n",
       "      <td>5.322411e+18</td>\n",
       "      <td>6.857739e+18</td>\n",
       "      <td>5.466563e+18</td>\n",
       "      <td>4.373663e+18</td>\n",
       "      <td>5.282961e+18</td>\n",
       "      <td>1.111413e+17</td>\n",
       "      <td>4.998125e+18</td>\n",
       "      <td>4.707350e+18</td>\n",
       "      <td>19.800552</td>\n",
       "      <td>1.836562</td>\n",
       "      <td>...</td>\n",
       "      <td>0.499788</td>\n",
       "      <td>11.762945</td>\n",
       "      <td>2.008431</td>\n",
       "      <td>0.714733</td>\n",
       "      <td>0.066818</td>\n",
       "      <td>0.001372</td>\n",
       "      <td>0.052912</td>\n",
       "      <td>0.000867</td>\n",
       "      <td>0.061538</td>\n",
       "      <td>0.002518</td>\n",
       "    </tr>\n",
       "    <tr>\n",
       "      <th>min</th>\n",
       "      <td>-9.223266e+18</td>\n",
       "      <td>-9.189916e+18</td>\n",
       "      <td>-9.223307e+18</td>\n",
       "      <td>-8.604110e+18</td>\n",
       "      <td>-8.847643e+18</td>\n",
       "      <td>4.528528e+17</td>\n",
       "      <td>-9.203191e+18</td>\n",
       "      <td>-9.142586e+18</td>\n",
       "      <td>0.000000</td>\n",
       "      <td>0.000000</td>\n",
       "      <td>...</td>\n",
       "      <td>6.000000</td>\n",
       "      <td>1.000000</td>\n",
       "      <td>0.000000</td>\n",
       "      <td>0.000000</td>\n",
       "      <td>0.000000</td>\n",
       "      <td>0.000000</td>\n",
       "      <td>0.005464</td>\n",
       "      <td>0.000000</td>\n",
       "      <td>0.000000</td>\n",
       "      <td>0.000000</td>\n",
       "    </tr>\n",
       "    <tr>\n",
       "      <th>25%</th>\n",
       "      <td>-4.613428e+18</td>\n",
       "      <td>-9.189916e+18</td>\n",
       "      <td>-5.357509e+18</td>\n",
       "      <td>-8.361557e+18</td>\n",
       "      <td>-2.138496e+18</td>\n",
       "      <td>2.656585e+18</td>\n",
       "      <td>-3.688929e+18</td>\n",
       "      <td>-1.000000e+00</td>\n",
       "      <td>0.000000</td>\n",
       "      <td>0.000000</td>\n",
       "      <td>...</td>\n",
       "      <td>6.000000</td>\n",
       "      <td>5.000000</td>\n",
       "      <td>1.000000</td>\n",
       "      <td>0.000000</td>\n",
       "      <td>0.053280</td>\n",
       "      <td>0.000000</td>\n",
       "      <td>0.058662</td>\n",
       "      <td>0.000144</td>\n",
       "      <td>0.055631</td>\n",
       "      <td>0.000000</td>\n",
       "    </tr>\n",
       "    <tr>\n",
       "      <th>50%</th>\n",
       "      <td>1.026416e+16</td>\n",
       "      <td>-9.189916e+18</td>\n",
       "      <td>-1.064948e+16</td>\n",
       "      <td>-8.361557e+18</td>\n",
       "      <td>1.683171e+18</td>\n",
       "      <td>2.656585e+18</td>\n",
       "      <td>1.367880e+18</td>\n",
       "      <td>-1.000000e+00</td>\n",
       "      <td>0.000000</td>\n",
       "      <td>0.000000</td>\n",
       "      <td>...</td>\n",
       "      <td>6.000000</td>\n",
       "      <td>25.000000</td>\n",
       "      <td>3.000000</td>\n",
       "      <td>0.000000</td>\n",
       "      <td>0.071429</td>\n",
       "      <td>0.000202</td>\n",
       "      <td>0.078351</td>\n",
       "      <td>0.000417</td>\n",
       "      <td>0.082342</td>\n",
       "      <td>0.000000</td>\n",
       "    </tr>\n",
       "    <tr>\n",
       "      <th>75%</th>\n",
       "      <td>4.602870e+18</td>\n",
       "      <td>4.940667e+18</td>\n",
       "      <td>4.016189e+18</td>\n",
       "      <td>1.480525e+18</td>\n",
       "      <td>3.028780e+18</td>\n",
       "      <td>2.656585e+18</td>\n",
       "      <td>3.772499e+18</td>\n",
       "      <td>5.951656e+18</td>\n",
       "      <td>1.000000</td>\n",
       "      <td>0.000000</td>\n",
       "      <td>...</td>\n",
       "      <td>7.000000</td>\n",
       "      <td>28.000000</td>\n",
       "      <td>5.000000</td>\n",
       "      <td>0.000000</td>\n",
       "      <td>0.148725</td>\n",
       "      <td>0.000650</td>\n",
       "      <td>0.139226</td>\n",
       "      <td>0.000647</td>\n",
       "      <td>0.137315</td>\n",
       "      <td>0.000482</td>\n",
       "    </tr>\n",
       "    <tr>\n",
       "      <th>max</th>\n",
       "      <td>9.223101e+18</td>\n",
       "      <td>4.940667e+18</td>\n",
       "      <td>9.216591e+18</td>\n",
       "      <td>1.592276e+18</td>\n",
       "      <td>8.865851e+18</td>\n",
       "      <td>2.656585e+18</td>\n",
       "      <td>9.215724e+18</td>\n",
       "      <td>8.943928e+18</td>\n",
       "      <td>3131.000000</td>\n",
       "      <td>202.000000</td>\n",
       "      <td>...</td>\n",
       "      <td>7.000000</td>\n",
       "      <td>30.000000</td>\n",
       "      <td>6.000000</td>\n",
       "      <td>128.000000</td>\n",
       "      <td>0.535714</td>\n",
       "      <td>0.015152</td>\n",
       "      <td>0.248691</td>\n",
       "      <td>0.005236</td>\n",
       "      <td>1.000000</td>\n",
       "      <td>0.071429</td>\n",
       "    </tr>\n",
       "  </tbody>\n",
       "</table>\n",
       "<p>8 rows × 26 columns</p>\n",
       "</div>"
      ],
      "text/plain": [
       "            ssp_uid  carrier_name       slot_id    sponsor_id   campaign_id  \\\n",
       "count  2.000000e+05  2.000000e+05  2.000000e+05  2.000000e+05  2.000000e+05   \n",
       "mean  -2.828182e+15 -3.151998e+18 -2.979194e+17 -5.312828e+18  2.639002e+17   \n",
       "std    5.322411e+18  6.857739e+18  5.466563e+18  4.373663e+18  5.282961e+18   \n",
       "min   -9.223266e+18 -9.189916e+18 -9.223307e+18 -8.604110e+18 -8.847643e+18   \n",
       "25%   -4.613428e+18 -9.189916e+18 -5.357509e+18 -8.361557e+18 -2.138496e+18   \n",
       "50%    1.026416e+16 -9.189916e+18 -1.064948e+16 -8.361557e+18  1.683171e+18   \n",
       "75%    4.602870e+18  4.940667e+18  4.016189e+18  1.480525e+18  3.028780e+18   \n",
       "max    9.223101e+18  4.940667e+18  9.216591e+18  1.592276e+18  8.865851e+18   \n",
       "\n",
       "       creative_type   creative_id        region             fq  \\\n",
       "count   2.000000e+05  2.000000e+05  2.000000e+05  200000.000000   \n",
       "mean    2.650965e+18  3.597165e+17  6.054026e+17       3.222790   \n",
       "std     1.111413e+17  4.998125e+18  4.707350e+18      19.800552   \n",
       "min     4.528528e+17 -9.203191e+18 -9.142586e+18       0.000000   \n",
       "25%     2.656585e+18 -3.688929e+18 -1.000000e+00       0.000000   \n",
       "50%     2.656585e+18  1.367880e+18 -1.000000e+00       0.000000   \n",
       "75%     2.656585e+18  3.772499e+18  5.951656e+18       1.000000   \n",
       "max     2.656585e+18  9.215724e+18  8.943928e+18    3131.000000   \n",
       "\n",
       "           inview_fq      ...        request_month    request_day  \\\n",
       "count  200000.000000      ...        200000.000000  200000.000000   \n",
       "mean        0.121045      ...             6.485390      16.392250   \n",
       "std         1.836562      ...             0.499788      11.762945   \n",
       "min         0.000000      ...             6.000000       1.000000   \n",
       "25%         0.000000      ...             6.000000       5.000000   \n",
       "50%         0.000000      ...             6.000000      25.000000   \n",
       "75%         0.000000      ...             7.000000      28.000000   \n",
       "max       202.000000      ...             7.000000      30.000000   \n",
       "\n",
       "       request_dayofweek       rt_times    click_flg_0       cv_flg_0  \\\n",
       "count      200000.000000  200000.000000  199931.000000  199931.000000   \n",
       "mean            3.146965       0.150745       0.100488       0.000643   \n",
       "std             2.008431       0.714733       0.066818       0.001372   \n",
       "min             0.000000       0.000000       0.000000       0.000000   \n",
       "25%             1.000000       0.000000       0.053280       0.000000   \n",
       "50%             3.000000       0.000000       0.071429       0.000202   \n",
       "75%             5.000000       0.000000       0.148725       0.000650   \n",
       "max             6.000000     128.000000       0.535714       0.015152   \n",
       "\n",
       "         click_flg_1       cv_flg_1    click_flg_2       cv_flg_2  \n",
       "count  199931.000000  199931.000000  199884.000000  199884.000000  \n",
       "mean        0.099871       0.000648       0.099981       0.000648  \n",
       "std         0.052912       0.000867       0.061538       0.002518  \n",
       "min         0.005464       0.000000       0.000000       0.000000  \n",
       "25%         0.058662       0.000144       0.055631       0.000000  \n",
       "50%         0.078351       0.000417       0.082342       0.000000  \n",
       "75%         0.139226       0.000647       0.137315       0.000482  \n",
       "max         0.248691       0.005236       1.000000       0.071429  \n",
       "\n",
       "[8 rows x 26 columns]"
      ]
     },
     "execution_count": 36,
     "metadata": {},
     "output_type": "execute_result"
    }
   ],
   "source": [
    "df_final.describe()"
   ]
  },
  {
   "cell_type": "code",
   "execution_count": null,
   "metadata": {},
   "outputs": [],
   "source": [
    "df_final = pd.read_csv(\"df_final.csv\")"
   ]
  }
 ],
 "metadata": {
  "kernelspec": {
   "display_name": "Python 3",
   "language": "python",
   "name": "python3"
  },
  "language_info": {
   "codemirror_mode": {
    "name": "ipython",
    "version": 3
   },
   "file_extension": ".py",
   "mimetype": "text/x-python",
   "name": "python",
   "nbconvert_exporter": "python",
   "pygments_lexer": "ipython3",
   "version": "3.5.6"
  }
 },
 "nbformat": 4,
 "nbformat_minor": 2
}
