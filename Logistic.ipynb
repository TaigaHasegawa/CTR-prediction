{
 "cells": [
  {
   "cell_type": "code",
   "execution_count": 1,
   "metadata": {},
   "outputs": [],
   "source": [
    "import pandas as pd \n",
    "import numpy as np \n",
    "import matplotlib.pyplot as plt\n",
    "import seaborn as sns\n",
    "from sklearn.model_selection import train_test_split\n",
    "from sklearn.ensemble import RandomForestClassifier\n",
    "from sklearn.metrics import roc_auc_score "
   ]
  },
  {
   "cell_type": "code",
   "execution_count": 2,
   "metadata": {},
   "outputs": [],
   "source": [
    "df_final = pd.read_csv(\"df_final_2.csv\")"
   ]
  },
  {
   "cell_type": "code",
   "execution_count": 3,
   "metadata": {},
   "outputs": [],
   "source": [
    "cat_cols = ['os', 'browser','slot_id', \"ssp_uid\",'carrier_name', 'region','creative_type','sponsor_id','campaign_id','creative_id',\"is_rt\", 'request_hour',\n",
    "       'request_month', 'request_day', 'request_dayofweek', 'rt_times']\n",
    "for c in cat_cols:\n",
    "    vv, obj = pd.factorize(df_final[c])\n",
    "    df_final[c] = vv"
   ]
  },
  {
   "cell_type": "code",
   "execution_count": 4,
   "metadata": {},
   "outputs": [],
   "source": [
    "df_final = df_final.fillna(0)"
   ]
  },
  {
   "cell_type": "code",
   "execution_count": 34,
   "metadata": {},
   "outputs": [
    {
     "data": {
      "text/html": [
       "<div>\n",
       "<style scoped>\n",
       "    .dataframe tbody tr th:only-of-type {\n",
       "        vertical-align: middle;\n",
       "    }\n",
       "\n",
       "    .dataframe tbody tr th {\n",
       "        vertical-align: top;\n",
       "    }\n",
       "\n",
       "    .dataframe thead th {\n",
       "        text-align: right;\n",
       "    }\n",
       "</style>\n",
       "<table border=\"1\" class=\"dataframe\">\n",
       "  <thead>\n",
       "    <tr style=\"text-align: right;\">\n",
       "      <th></th>\n",
       "      <th>sponsor_id</th>\n",
       "      <th>campaign_id</th>\n",
       "      <th>creative_type</th>\n",
       "      <th>creative_id</th>\n",
       "      <th>region</th>\n",
       "      <th>fq</th>\n",
       "      <th>inview_fq</th>\n",
       "      <th>recency</th>\n",
       "      <th>inview_recency</th>\n",
       "      <th>click_flg</th>\n",
       "    </tr>\n",
       "  </thead>\n",
       "  <tbody>\n",
       "    <tr>\n",
       "      <th>count</th>\n",
       "      <td>200000.000000</td>\n",
       "      <td>200000.000000</td>\n",
       "      <td>200000.000000</td>\n",
       "      <td>200000.000000</td>\n",
       "      <td>200000.000000</td>\n",
       "      <td>200000.000000</td>\n",
       "      <td>200000.000000</td>\n",
       "      <td>200000.000000</td>\n",
       "      <td>200000.000000</td>\n",
       "      <td>200000.000000</td>\n",
       "    </tr>\n",
       "    <tr>\n",
       "      <th>mean</th>\n",
       "      <td>1.165935</td>\n",
       "      <td>11.498295</td>\n",
       "      <td>0.002550</td>\n",
       "      <td>59.300580</td>\n",
       "      <td>6.422035</td>\n",
       "      <td>2.673255</td>\n",
       "      <td>-0.776795</td>\n",
       "      <td>1.158792</td>\n",
       "      <td>-0.314470</td>\n",
       "      <td>0.100000</td>\n",
       "    </tr>\n",
       "    <tr>\n",
       "      <th>std</th>\n",
       "      <td>1.435267</td>\n",
       "      <td>9.794459</td>\n",
       "      <td>0.050433</td>\n",
       "      <td>64.567396</td>\n",
       "      <td>10.314744</td>\n",
       "      <td>19.896017</td>\n",
       "      <td>1.918865</td>\n",
       "      <td>3.777601</td>\n",
       "      <td>2.292502</td>\n",
       "      <td>0.300001</td>\n",
       "    </tr>\n",
       "    <tr>\n",
       "      <th>min</th>\n",
       "      <td>0.000000</td>\n",
       "      <td>0.000000</td>\n",
       "      <td>0.000000</td>\n",
       "      <td>0.000000</td>\n",
       "      <td>0.000000</td>\n",
       "      <td>-1.000000</td>\n",
       "      <td>-1.000000</td>\n",
       "      <td>-11.512925</td>\n",
       "      <td>-11.512925</td>\n",
       "      <td>0.000000</td>\n",
       "    </tr>\n",
       "    <tr>\n",
       "      <th>25%</th>\n",
       "      <td>0.000000</td>\n",
       "      <td>3.000000</td>\n",
       "      <td>0.000000</td>\n",
       "      <td>12.000000</td>\n",
       "      <td>1.000000</td>\n",
       "      <td>-1.000000</td>\n",
       "      <td>-1.000000</td>\n",
       "      <td>-1.000000</td>\n",
       "      <td>-1.000000</td>\n",
       "      <td>0.000000</td>\n",
       "    </tr>\n",
       "    <tr>\n",
       "      <th>50%</th>\n",
       "      <td>0.000000</td>\n",
       "      <td>10.000000</td>\n",
       "      <td>0.000000</td>\n",
       "      <td>35.000000</td>\n",
       "      <td>1.000000</td>\n",
       "      <td>-1.000000</td>\n",
       "      <td>-1.000000</td>\n",
       "      <td>-1.000000</td>\n",
       "      <td>-1.000000</td>\n",
       "      <td>0.000000</td>\n",
       "    </tr>\n",
       "    <tr>\n",
       "      <th>75%</th>\n",
       "      <td>3.000000</td>\n",
       "      <td>18.000000</td>\n",
       "      <td>0.000000</td>\n",
       "      <td>84.000000</td>\n",
       "      <td>7.000000</td>\n",
       "      <td>1.000000</td>\n",
       "      <td>-1.000000</td>\n",
       "      <td>3.555348</td>\n",
       "      <td>-1.000000</td>\n",
       "      <td>0.000000</td>\n",
       "    </tr>\n",
       "    <tr>\n",
       "      <th>max</th>\n",
       "      <td>4.000000</td>\n",
       "      <td>38.000000</td>\n",
       "      <td>1.000000</td>\n",
       "      <td>300.000000</td>\n",
       "      <td>47.000000</td>\n",
       "      <td>3131.000000</td>\n",
       "      <td>202.000000</td>\n",
       "      <td>11.366616</td>\n",
       "      <td>11.366627</td>\n",
       "      <td>1.000000</td>\n",
       "    </tr>\n",
       "  </tbody>\n",
       "</table>\n",
       "</div>"
      ],
      "text/plain": [
       "          sponsor_id    campaign_id  creative_type    creative_id  \\\n",
       "count  200000.000000  200000.000000  200000.000000  200000.000000   \n",
       "mean        1.165935      11.498295       0.002550      59.300580   \n",
       "std         1.435267       9.794459       0.050433      64.567396   \n",
       "min         0.000000       0.000000       0.000000       0.000000   \n",
       "25%         0.000000       3.000000       0.000000      12.000000   \n",
       "50%         0.000000      10.000000       0.000000      35.000000   \n",
       "75%         3.000000      18.000000       0.000000      84.000000   \n",
       "max         4.000000      38.000000       1.000000     300.000000   \n",
       "\n",
       "              region             fq      inview_fq        recency  \\\n",
       "count  200000.000000  200000.000000  200000.000000  200000.000000   \n",
       "mean        6.422035       2.673255      -0.776795       1.158792   \n",
       "std        10.314744      19.896017       1.918865       3.777601   \n",
       "min         0.000000      -1.000000      -1.000000     -11.512925   \n",
       "25%         1.000000      -1.000000      -1.000000      -1.000000   \n",
       "50%         1.000000      -1.000000      -1.000000      -1.000000   \n",
       "75%         7.000000       1.000000      -1.000000       3.555348   \n",
       "max        47.000000    3131.000000     202.000000      11.366616   \n",
       "\n",
       "       inview_recency      click_flg  \n",
       "count   200000.000000  200000.000000  \n",
       "mean        -0.314470       0.100000  \n",
       "std          2.292502       0.300001  \n",
       "min        -11.512925       0.000000  \n",
       "25%         -1.000000       0.000000  \n",
       "50%         -1.000000       0.000000  \n",
       "75%         -1.000000       0.000000  \n",
       "max         11.366627       1.000000  "
      ]
     },
     "execution_count": 34,
     "metadata": {},
     "output_type": "execute_result"
    }
   ],
   "source": [
    "df_final.iloc[:,8:20].describe()"
   ]
  },
  {
   "cell_type": "markdown",
   "metadata": {},
   "source": [
    "# Without My Features"
   ]
  },
  {
   "cell_type": "code",
   "execution_count": 5,
   "metadata": {},
   "outputs": [],
   "source": [
    "df_final = df_final.drop([\"Unnamed: 0\"], axis = 1)\n",
    "df_final = df_final.drop([\"request_time\"], axis = 1)\n",
    "df_final = df_final.drop([\"click_time\"], axis = 1)\n",
    "df_final = df_final.drop([\"cv_time\"], axis = 1)\n",
    "df_final = df_final.drop([\"cv_flg\"], axis = 1)\n",
    "df_final = df_final.drop([\"ssp_uid\"], axis = 1)\n",
    "df_final = df_final.drop([\"req_id\"], axis = 1)\n",
    "df_final = df_final.drop([\"os\"], axis = 1)\n",
    "df_final = df_final.drop([\"carrier_name\"], axis = 1)\n",
    "df_final = df_final.drop([\"request_month\"], axis = 1)\n",
    "df_final = df_final.drop([\"request_dayofweek\"], axis = 1)\n",
    "df_final = df_final.drop([\"request_hour\"], axis = 1)\n",
    "df_final = df_final.drop([\"request_day\"], axis = 1)\n",
    "df_final = df_final.drop([\"rt_times\"], axis = 1)\n",
    "df_final = df_final.drop([\"cv_flg_0\"], axis = 1)\n",
    "df_final = df_final.drop([\"click_flg_1\"], axis = 1)\n",
    "df_final = df_final.drop([\"cv_flg_1\"], axis = 1)\n",
    "df_final = df_final.drop([\"click_flg_2\"], axis = 1)\n",
    "df_final = df_final.drop([\"cv_flg_2\"], axis = 1)\n",
    "#df_final = df_final.drop([\"click_user\"], axis = 1)"
   ]
  },
  {
   "cell_type": "code",
   "execution_count": 6,
   "metadata": {},
   "outputs": [],
   "source": [
    "df_dummy = pd.get_dummies(df_final, drop_first=True, columns=['browser','slot_id',\n",
    "                                   'region','creative_type','sponsor_id','campaign_id',\n",
    "                                   'creative_id'])"
   ]
  },
  {
   "cell_type": "code",
   "execution_count": 7,
   "metadata": {},
   "outputs": [],
   "source": [
    "num_data=len(df_final)\n",
    "x_dummy = df_dummy.drop([\"click_flg\"], axis = 1)\n",
    "y_dummy = df_dummy[\"click_flg\"]\n",
    "train_x = x_dummy.iloc[0:int(num_data*0.8),:]\n",
    "val_x = x_dummy.iloc[int(num_data*0.8):int(num_data*0.9),:]\n",
    "test_x = x_dummy.iloc[int(num_data*0.9):num_data,:]\n",
    "train_y = y_dummy[0:int(num_data*0.8)]\n",
    "val_y = y_dummy[int(num_data*0.8):int(num_data*0.9)]\n",
    "test_y = y_dummy[int(num_data*0.9):num_data]"
   ]
  },
  {
   "cell_type": "code",
   "execution_count": 8,
   "metadata": {},
   "outputs": [
    {
     "name": "stdout",
     "output_type": "stream",
     "text": [
      "0.7927242763057671\n"
     ]
    }
   ],
   "source": [
    "from sklearn.linear_model import LogisticRegression\n",
    "rfc = LogisticRegression()\n",
    "model = rfc.fit(train_x, train_y)\n",
    "y_pred = model.predict_proba(test_x)[:, 1]\n",
    "print(roc_auc_score(test_y, y_pred))"
   ]
  },
  {
   "cell_type": "code",
   "execution_count": 9,
   "metadata": {},
   "outputs": [
    {
     "name": "stdout",
     "output_type": "stream",
     "text": [
      "AUC(PR):0.3264863232728729\n"
     ]
    }
   ],
   "source": [
    "from sklearn.metrics import precision_recall_curve\n",
    "from sklearn.metrics import auc\n",
    "from matplotlib import pyplot\n",
    "# generate a no skill prediction (majority class)\n",
    "no_skill_probs = [i for i in np.random.rand(len(test_y))]\n",
    "# calculate precision and recall for each threshold\n",
    "ns_precision, ns_recall, _ = precision_recall_curve(test_y, no_skill_probs)\n",
    "lr_precision, lr_recall, _ = precision_recall_curve(test_y, y_pred)\n",
    "print(\"AUC(PR):%s\" %str(auc(lr_recall, lr_precision)))"
   ]
  },
  {
   "cell_type": "markdown",
   "metadata": {},
   "source": [
    "# With My Features"
   ]
  },
  {
   "cell_type": "code",
   "execution_count": 5,
   "metadata": {},
   "outputs": [],
   "source": [
    "df_final = df_final.drop([\"Unnamed: 0\"], axis = 1)\n",
    "df_final = df_final.drop([\"request_time\"], axis = 1)\n",
    "df_final = df_final.drop([\"click_time\"], axis = 1)\n",
    "df_final = df_final.drop([\"cv_time\"], axis = 1)\n",
    "df_final = df_final.drop([\"cv_flg\"], axis = 1)\n",
    "df_final = df_final.drop([\"ssp_uid\"], axis = 1)\n",
    "df_final = df_final.drop([\"req_id\"], axis = 1)\n",
    "df_final = df_final.drop([\"os\"], axis = 1)\n",
    "df_final = df_final.drop([\"carrier_name\"], axis = 1)\n",
    "df_final = df_final.drop([\"request_month\"], axis = 1)\n",
    "df_final = df_final.drop([\"request_dayofweek\"], axis = 1)\n",
    "df_final = df_final.drop([\"rt_times\"], axis = 1)\n",
    "df_final = df_final.drop([\"cv_flg_0\"], axis = 1)\n",
    "df_final = df_final.drop([\"click_flg_1\"], axis = 1)\n",
    "df_final = df_final.drop([\"cv_flg_1\"], axis = 1)\n",
    "df_final = df_final.drop([\"click_flg_2\"], axis = 1)\n",
    "df_final = df_final.drop([\"cv_flg_2\"], axis = 1)\n",
    "#df_final = df_final.drop([\"click_user\"], axis = 1)"
   ]
  },
  {
   "cell_type": "code",
   "execution_count": 6,
   "metadata": {},
   "outputs": [],
   "source": [
    "df_dummy = pd.get_dummies(df_final, drop_first=True, columns=['browser','slot_id',\n",
    "                                   'region','creative_type','sponsor_id','campaign_id',\n",
    "                                   'creative_id', 'request_hour',\n",
    "                                   'request_day'])"
   ]
  },
  {
   "cell_type": "code",
   "execution_count": 7,
   "metadata": {},
   "outputs": [],
   "source": [
    "num_data=len(df_final)\n",
    "x_dummy = df_dummy.drop([\"click_flg\"], axis = 1)\n",
    "y_dummy = df_dummy[\"click_flg\"]\n",
    "train_x = x_dummy.iloc[0:int(num_data*0.8),:]\n",
    "val_x = x_dummy.iloc[int(num_data*0.8):int(num_data*0.9),:]\n",
    "test_x = x_dummy.iloc[int(num_data*0.9):num_data,:]\n",
    "train_y = y_dummy[0:int(num_data*0.8)]\n",
    "val_y = y_dummy[int(num_data*0.8):int(num_data*0.9)]\n",
    "test_y = y_dummy[int(num_data*0.9):num_data]"
   ]
  },
  {
   "cell_type": "code",
   "execution_count": 8,
   "metadata": {},
   "outputs": [
    {
     "name": "stdout",
     "output_type": "stream",
     "text": [
      "0.7932694876605486\n"
     ]
    }
   ],
   "source": [
    "from sklearn.linear_model import LogisticRegression\n",
    "rfc = LogisticRegression()\n",
    "model = rfc.fit(train_x, train_y)\n",
    "y_pred = model.predict_proba(test_x)[:, 1]\n",
    "print(roc_auc_score(test_y, y_pred))"
   ]
  },
  {
   "cell_type": "code",
   "execution_count": 9,
   "metadata": {},
   "outputs": [
    {
     "name": "stdout",
     "output_type": "stream",
     "text": [
      "AUC(PR):0.32777399892351766\n"
     ]
    }
   ],
   "source": [
    "from sklearn.metrics import precision_recall_curve\n",
    "from sklearn.metrics import auc\n",
    "from matplotlib import pyplot\n",
    "# generate a no skill prediction (majority class)\n",
    "no_skill_probs = [i for i in np.random.rand(len(test_y))]\n",
    "# calculate precision and recall for each threshold\n",
    "ns_precision, ns_recall, _ = precision_recall_curve(test_y, no_skill_probs)\n",
    "lr_precision, lr_recall, _ = precision_recall_curve(test_y, y_pred)\n",
    "print(\"AUC(PR):%s\" %str(auc(lr_recall, lr_precision)))"
   ]
  },
  {
   "cell_type": "code",
   "execution_count": 10,
   "metadata": {},
   "outputs": [
    {
     "data": {
      "text/plain": [
       "Text(0,0.5,'TPR: True positive rate')"
      ]
     },
     "execution_count": 10,
     "metadata": {},
     "output_type": "execute_result"
    },
    {
     "name": "stderr",
     "output_type": "stream",
     "text": [
      "/usr/local/envs/py3env/lib/python3.5/site-packages/matplotlib/font_manager.py:1320: UserWarning: findfont: Font family ['sans-serif'] not found. Falling back to DejaVu Sans\n",
      "  (prop.get_family(), self.defaultFamily[fontext]))\n"
     ]
    },
    {
     "data": {
      "image/png": "[encoded data removed]",
      "text/plain": [
       "<matplotlib.figure.Figure at 0x7fc2653e62e8>"
      ]
     },
     "metadata": {},
     "output_type": "display_data"
    }
   ],
   "source": [
    "import pylab as pl\n",
    "from sklearn import metrics\n",
    "# FPR, TPR(, しきい値) を算出\n",
    "roc_p = metrics.roc_curve(test_y, y_pred, drop_intermediate=False)\n",
    "x = np.random.rand(len(test_y))\n",
    "y = x\n",
    "plt.plot(roc_p[0], roc_p[1],linestyle='-')\n",
    "plt.plot(x, y)\n",
    "plt.xlabel('FPR: False positive rate')\n",
    "plt.ylabel('TPR: True positive rate')"
   ]
  },
  {
   "cell_type": "code",
   "execution_count": 11,
   "metadata": {},
   "outputs": [
    {
     "name": "stderr",
     "output_type": "stream",
     "text": [
      "/usr/local/envs/py3env/lib/python3.5/site-packages/matplotlib/font_manager.py:1320: UserWarning: findfont: Font family ['sans-serif'] not found. Falling back to DejaVu Sans\n",
      "  (prop.get_family(), self.defaultFamily[fontext]))\n"
     ]
    },
    {
     "data": {
      "image/png": "[encoded data removed]",
      "text/plain": [
       "<matplotlib.figure.Figure at 0x7fc265af5470>"
      ]
     },
     "metadata": {},
     "output_type": "display_data"
    }
   ],
   "source": [
    "# precision-recall curve and f1\n",
    "from sklearn.metrics import precision_recall_curve\n",
    "from sklearn.metrics import auc\n",
    "from matplotlib import pyplot\n",
    "# generate a no skill prediction (majority class)\n",
    "no_skill_probs = [i for i in np.random.rand(len(test_y))]\n",
    "# calculate precision and recall for each threshold\n",
    "ns_precision, ns_recall, _ = precision_recall_curve(test_y, no_skill_probs)\n",
    "lr_precision, lr_recall, _ = precision_recall_curve(test_y, y_pred)\n",
    "\n",
    "# plot the precision-recall curves\n",
    "pyplot.plot(ns_recall, ns_precision, linestyle='--', label='No Skill')\n",
    "pyplot.plot(lr_recall, lr_precision, linestyle='-', label='Logistic')\n",
    "# axis labels\n",
    "pyplot.xlabel('Recall')\n",
    "pyplot.ylabel('Precision')\n",
    "# show the legend\n",
    "pyplot.legend()\n",
    "# show the plot\n",
    "pyplot.show()"
   ]
  },
  {
   "cell_type": "code",
   "execution_count": 12,
   "metadata": {},
   "outputs": [],
   "source": [
    "y_pred_str = [str(n) for n in y_pred]"
   ]
  },
  {
   "cell_type": "code",
   "execution_count": 13,
   "metadata": {},
   "outputs": [],
   "source": [
    "with open('logistic.txt', 'w') as rd:\n",
    "    rd.writelines('\\n'.join(y_pred_str))"
   ]
  },
  {
   "cell_type": "markdown",
   "metadata": {},
   "source": [
    "# Under sampling"
   ]
  },
  {
   "cell_type": "code",
   "execution_count": 18,
   "metadata": {},
   "outputs": [],
   "source": [
    "# Class count\n",
    "train = df_dummy.iloc[0:int(num_data*0.8),:]\n",
    "count_class_0, count_class_1 = train.click_flg.value_counts()\n",
    "\n",
    "# Divide by class\n",
    "df_class_0 = train[train['click_flg'] == 0]\n",
    "df_class_1 = train[train['click_flg'] == 1]\n",
    "\n",
    "df_class_0_under = df_class_0.sample(int(count_class_1))"
   ]
  },
  {
   "cell_type": "code",
   "execution_count": 19,
   "metadata": {},
   "outputs": [],
   "source": [
    "df_train_under = pd.concat([df_class_0_under, df_class_1], axis=0)"
   ]
  },
  {
   "cell_type": "code",
   "execution_count": 20,
   "metadata": {},
   "outputs": [],
   "source": [
    "num_data=len(df_final)\n",
    "x_dummy = df_dummy.drop([\"click_flg\"], axis = 1)\n",
    "y_dummy = df_dummy[\"click_flg\"]\n",
    "train_x = df_train_under.drop([\"click_flg\"], axis = 1)\n",
    "val_x = x_dummy.iloc[int(num_data*0.8):int(num_data*0.9),:]\n",
    "test_x = x_dummy.iloc[int(num_data*0.9):num_data,:]\n",
    "train_y = df_train_under[\"click_flg\"]\n",
    "val_y = y_dummy[int(num_data*0.8):int(num_data*0.9)]\n",
    "test_y = y_dummy[int(num_data*0.9):num_data]"
   ]
  },
  {
   "cell_type": "code",
   "execution_count": 21,
   "metadata": {},
   "outputs": [
    {
     "name": "stdout",
     "output_type": "stream",
     "text": [
      "0.7873593893876082\n"
     ]
    }
   ],
   "source": [
    "from sklearn.linear_model import LogisticRegression\n",
    "rfc = LogisticRegression()\n",
    "model = rfc.fit(train_x, train_y)\n",
    "y_pred = model.predict_proba(test_x)[:, 1]\n",
    "print(roc_auc_score(test_y, y_pred))"
   ]
  },
  {
   "cell_type": "code",
   "execution_count": 22,
   "metadata": {},
   "outputs": [
    {
     "name": "stdout",
     "output_type": "stream",
     "text": [
      "AUC(PR):0.3159387955247998\n"
     ]
    }
   ],
   "source": [
    "from sklearn.metrics import precision_recall_curve\n",
    "from sklearn.metrics import auc\n",
    "from matplotlib import pyplot\n",
    "# generate a no skill prediction (majority class)\n",
    "no_skill_probs = [i for i in np.random.rand(len(test_y))]\n",
    "# calculate precision and recall for each threshold\n",
    "ns_precision, ns_recall, _ = precision_recall_curve(test_y, no_skill_probs)\n",
    "lr_precision, lr_recall, _ = precision_recall_curve(test_y, y_pred)\n",
    "print(\"AUC(PR):%s\" %str(auc(lr_recall, lr_precision)))"
   ]
  },
  {
   "cell_type": "code",
   "execution_count": 44,
   "metadata": {},
   "outputs": [],
   "source": [
    "from sklearn.metrics import roc_curve, auc\n",
    "def Find_Optimal_Cutoff(target, predicted):\n",
    "    \"\"\" Find the optimal probability cutoff point for a classification model related to event rate\n",
    "    Parameters\n",
    "    ----------\n",
    "    target : Matrix with dependent or target data, where rows are observations\n",
    "\n",
    "    predicted : Matrix with predicted data, where rows are observations\n",
    "\n",
    "    Returns\n",
    "    -------     \n",
    "    list type, with optimal cutoff value\n",
    "\n",
    "    \"\"\"\n",
    "    fpr, tpr, threshold = roc_curve(target, predicted)\n",
    "    i = np.arange(len(tpr)) \n",
    "    roc = pd.DataFrame({'tf' : pd.Series(tpr-(1-fpr), index=i), 'threshold' : pd.Series(threshold, index=i)})\n",
    "    roc_t = roc.ix[(roc.tf-0).abs().argsort()[:1]]\n",
    "\n",
    "    return list(roc_t['threshold']) "
   ]
  },
  {
   "cell_type": "code",
   "execution_count": 45,
   "metadata": {},
   "outputs": [
    {
     "name": "stdout",
     "output_type": "stream",
     "text": [
      "[0.08752093719409444]\n",
      "0.7892474568482496\n"
     ]
    },
    {
     "name": "stderr",
     "output_type": "stream",
     "text": [
      "/usr/local/envs/py3env/lib/python3.5/site-packages/ipykernel/__main__.py:18: DeprecationWarning: \n",
      ".ix is deprecated. Please use\n",
      ".loc for label based indexing or\n",
      ".iloc for positional indexing\n",
      "\n",
      "See the documentation here:\n",
      "http://pandas.pydata.org/pandas-docs/stable/indexing.html#ix-indexer-is-deprecated\n"
     ]
    },
    {
     "data": {
      "text/plain": [
       "array([[12909,  5080],\n",
       "       [  568,  1443]])"
      ]
     },
     "execution_count": 45,
     "metadata": {},
     "output_type": "execute_result"
    }
   ],
   "source": [
    "def probability_calibration(y_proba, beta):\n",
    "    \"\"\"サンプリングレートを元に確率を補正する\"\"\"\n",
    "    calibrated_proba = y_proba / (y_proba + (1 - y_proba) / beta)\n",
    "    return calibrated_proba\n",
    "train_y_all = y_dummy[0:int(num_data*0.8)]\n",
    "# サンプリングレートを元に確率を補正する\n",
    "y_train_zero_len = np.count_nonzero(train_y == 0)\n",
    "beta = y_train_zero_len / len(train_y_all)\n",
    "y_pred_proba_cb = probability_calibration(np.array(y_pred),beta)\n",
    "# Find optimal probability threshold\n",
    "threshold = Find_Optimal_Cutoff(test_y, y_pred_proba_cb)\n",
    "print (threshold)\n",
    "\n",
    "# Find prediction to the dataframe applying threshold\n",
    "pred_cb = []\n",
    "for i in y_pred_proba_cb:\n",
    "  if i>threshold:\n",
    "    pred_cb.append(1)\n",
    "  else:\n",
    "    pred_cb.append(0)\n",
    "print(roc_auc_score(test_y, y_pred_proba_cb))\n",
    "# Print confusion Matrix\n",
    "from sklearn.metrics import confusion_matrix\n",
    "confusion_matrix(test_y, pred_cb)\n"
   ]
  },
  {
   "cell_type": "code",
   "execution_count": 35,
   "metadata": {},
   "outputs": [
    {
     "name": "stderr",
     "output_type": "stream",
     "text": [
      "/usr/local/envs/py3env/lib/python3.5/site-packages/sklearn/cross_validation.py:41: DeprecationWarning: This module was deprecated in version 0.18 in favor of the model_selection module into which all the refactored classes and functions are moved. Also note that the interface of the new CV iterators are different from that of this module. This module will be removed in 0.20.\n",
      "  \"This module will be removed in 0.20.\", DeprecationWarning)\n"
     ]
    }
   ],
   "source": [
    "from sklearn.cross_validation import StratifiedKFold\n",
    "from sklearn.linear_model import LogisticRegression"
   ]
  },
  {
   "cell_type": "code",
   "execution_count": 6,
   "metadata": {
    "codeCollapsed": true
   },
   "outputs": [],
   "source": [
    "class StackedGeneralization:\n",
    "    def __init__(self, n_folds, train_data, train_target, test_data):\n",
    "        self.n_folds = n_folds\n",
    "        self.train_data = train_data\n",
    "        self.train_target = train_target\n",
    "        self.test_data = test_data\n",
    "        self.n_classes = len(numpy.unique(train_target))\n",
    "        self.skf = StratifiedKFold(y=train_target, n_folds=n_folds)\n",
    "\n",
    "class Generalizer:\n",
    "    def __init__(self):\n",
    "        self.model = None\n",
    "\n",
    "    def name(self):\n",
    "        raise NotImplementedError\n",
    "\n",
    "    def guess_partial(self, sg):\n",
    "        assert(isinstance(sg, StackedGeneralization))\n",
    "        generalizer_prediction = numpy.empty((0, 1))\n",
    "        for train_index, test_index in sg.skf:\n",
    "            self.train(sg.train_data[train_index],\n",
    "                       sg.train_target[train_index])\n",
    "            generalizer_prediction = numpy.vstack((generalizer_prediction,\n",
    "                self.predict(sg.train_data[test_index]).reshape(len(test_index),1)))\n",
    "        reorder_index = [test_index for _, test_indices in sg.skf for test_index in test_indices]\n",
    "        return(generalizer_prediction[reorder_index])\n",
    "\n",
    "    def guess_whole(self, sg):\n",
    "        assert(isinstance(sg, StackedGeneralization))\n",
    "        return(self.guess(sg.train_data, sg.train_target, sg.test_data))\n",
    "\n",
    "    def guess(self, input_data, input_target, test_data):\n",
    "        self.train(input_data, input_target)\n",
    "        return(self.predict(test_data).reshape(len(test_data),1))\n",
    "\n",
    "    def train(self, data, label):\n",
    "        raise NotImplementedError\n",
    "\n",
    "    def predict(self, data):\n",
    "        raise NotImplementedError\n",
    "\n",
    "    @staticmethod\n",
    "    def load_partial(name):\n",
    "        return(numpy.load(Generalizer._partial_path(name)))\n",
    "\n",
    "    @staticmethod\n",
    "    def load_whole(name):\n",
    "        return(numpy.load(Generalizer._whole_path(name)))\n",
    "\n",
    "    @staticmethod\n",
    "    def save_partial(name, prediction):\n",
    "        numpy.save(Generalizer._partial_path(name), prediction)\n",
    "\n",
    "    @staticmethod\n",
    "    def save_whole(name, prediction):\n",
    "        numpy.save(Generalizer._whole_path(name), prediction)\n",
    "\n",
    "    @staticmethod\n",
    "    def _partial_path(name, has_ext = True):\n",
    "        return(path.join(\"data\", \"partial\", Generalizer._add_ext(name, has_ext)))\n",
    "\n",
    "    @staticmethod\n",
    "    def _whole_path(name, has_ext = True):\n",
    "        return(path.join(\"data\", \"whole\", Generalizer._add_ext(name, has_ext)))\n",
    "\n",
    "    @staticmethod\n",
    "    def _add_ext(name, has_ext):\n",
    "        if has_ext:\n",
    "            return(name + '.npy')\n",
    "        else:\n",
    "            return(name)"
   ]
  },
  {
   "cell_type": "code",
   "execution_count": 7,
   "metadata": {},
   "outputs": [],
   "source": [
    "def train_layer0(sg, generalizers, save_predictions = False):\n",
    "    layer0_partition_guess = numpy.array([generalizer.guess_partial(sg) for generalizer in generalizers])\n",
    "\n",
    "    for generalizer_index, generalizer in enumerate(generalizers):\n",
    "        if save_predictions:\n",
    "            Generalizer.save_partial(generalizer.name(),\n",
    "                                              layer0_partition_guess[generalizer_index])\n",
    "        print(\"log loss for {} : {}\".format(\n",
    "            generalizer.name(),\n",
    "            log_loss(sg.train_target, layer0_partition_guess[generalizer_index, :, :])\n",
    "        ))\n",
    "\n",
    "    layer0_whole_guess = numpy.array([generalizer.guess_whole(sg) for generalizer in generalizers])\n",
    "    for generalizer_index, generalizer in enumerate(generalizers):\n",
    "        if save_predictions:\n",
    "            Generalizer.save_whole(generalizer.name(),\n",
    "                                   layer0_whole_guess[generalizer_index])\n",
    "\n",
    "    return(layer0_partition_guess, layer0_whole_guess)\n",
    "\n",
    "def load_layer0(filenames):\n",
    "    layer0_partial_guess = numpy.array([Generalizer.load_partial(filename) for\n",
    "                                        filename in filenames])\n",
    "    layer0_whole_guess = numpy.array([Generalizer.load_whole(filename) for\n",
    "                                        filename in filenames])\n",
    "    return(layer0_partial_guess, layer0_whole_guess)\n",
    "\n",
    "def initialize_sg(train_data, train_target, test_data):\n",
    "    n_folds = 5\n",
    "    return(StackedGeneralization(n_folds, train_data, train_target, test_data))"
   ]
  },
  {
   "cell_type": "code",
   "execution_count": null,
   "metadata": {},
   "outputs": [],
   "source": [
    "class RandomForest(Generalizer):\n",
    "    def name(self):\n",
    "        return(\"random_forest\")\n",
    "\n",
    "    def train(self, data, label):\n",
    "        rfc = RandomForestClassifier(n_estimators = 300, max_depth = 32, min_samples_split = 16, max_leaf_nodes = 60)\n",
    "        self.model = rfc.fit(data, label)\n",
    "\n",
    "    def predict(self, data):\n",
    "        return(self.model.predict_proba(data)[:, 1])\n",
    "class Lightgbm(Generalizer):\n",
    "    def name(self):\n",
    "        return(\"light  gbm\")\n",
    "\n",
    "    def train(self, train_x, train_y):\n",
    "      train_data = lgb.Dataset(train_x, label=train_y)\n",
    "      eval_data = lgb.Dataset(test_x, label=test_y, reference= train_data)\n",
    "      self.model = lgb.train(params, train_data, valid_sets=eval_data,evals_result=evals_result, fobj=focal_loss, feval=focal_loss_eval)\n",
    "    def predict(self, data):\n",
    "        return(self.model.predict(data, num_iteration=self.model.best_iteration))\n",
    "class LR(Generalizer):\n",
    "    def name(self):\n",
    "        return(\"logistic_regression\")\n",
    "\n",
    "    def train(self, data, label):\n",
    "        rfc = LogisticRegression()\n",
    "        self.model = rfc.fit(data, label)\n",
    "\n",
    "    def predict(self, data):\n",
    "        return(self.model.predict_proba(data)[:, 1])"
   ]
  },
  {
   "cell_type": "code",
   "execution_count": null,
   "metadata": {},
   "outputs": [],
   "source": [
    "import numpy\n",
    "sg = initialize_sg(train_x.values, train_y.values, test_x.values)\n",
    "# for ad-hoc training\n",
    "generalizers = [RandomForest(), Lightgbm(), LR()]\n",
    "layer0_partition_guess, layer0_whole_guess = train_layer0(sg, generalizers)\n",
    "\n",
    "# loading predictions\n",
    "#layer0_partition_guess, layer0_whole_guess = load_layer0([\"random_forest\",\"extra_trees\"])\n",
    "\n",
    "result = LR().guess(\n",
    "  numpy.hstack(layer0_partition_guess),\n",
    "  sg.train_target,\n",
    "  numpy.hstack(layer0_whole_guess))\n",
    "print(roc_auc_score(test_y, result))"
   ]
  },
  {
   "cell_type": "code",
   "execution_count": 17,
   "metadata": {},
   "outputs": [
    {
     "name": "stderr",
     "output_type": "stream",
     "text": [
      "/usr/local/envs/py3env/lib/python3.5/site-packages/matplotlib/font_manager.py:1320: UserWarning: findfont: Font family ['sans-serif'] not found. Falling back to DejaVu Sans\n",
      "  (prop.get_family(), self.defaultFamily[fontext]))\n"
     ]
    },
    {
     "data": {
      "image/png": "[encoded data removed]",
      "text/plain": [
       "<matplotlib.figure.Figure at 0x7f7f4a059978>"
      ]
     },
     "metadata": {},
     "output_type": "display_data"
    }
   ],
   "source": [
    "# precision-recall curve and f1\n",
    "from sklearn.metrics import precision_recall_curve\n",
    "from sklearn.metrics import auc\n",
    "from matplotlib import pyplot\n",
    "# generate a no skill prediction (majority class)\n",
    "no_skill_probs = [0 for _ in range(len(test_y))]\n",
    "# calculate precision and recall for each threshold\n",
    "ns_precision, ns_recall, _ = precision_recall_curve(test_y, no_skill_probs)\n",
    "lr_precision, lr_recall, _ = precision_recall_curve(test_y, y_pred)\n",
    "\n",
    "# plot the precision-recall curves\n",
    "pyplot.plot(ns_recall, ns_precision, linestyle='--', label='No Skill')\n",
    "pyplot.plot(lr_recall, lr_precision, marker='.', label='Logistic')\n",
    "# axis labels\n",
    "pyplot.xlabel('Recall')\n",
    "pyplot.ylabel('Precision')\n",
    "# show the legend\n",
    "pyplot.legend()\n",
    "# show the plot\n",
    "pyplot.show()"
   ]
  },
  {
   "cell_type": "code",
   "execution_count": 18,
   "metadata": {},
   "outputs": [
    {
     "name": "stdout",
     "output_type": "stream",
     "text": [
      "AUC(PR):0.30401781085755886\n"
     ]
    }
   ],
   "source": [
    "from sklearn.metrics import auc\n",
    "print(\"AUC(PR):%s\" %str(auc(lr_recall, lr_precision)))"
   ]
  },
  {
   "cell_type": "code",
   "execution_count": null,
   "metadata": {},
   "outputs": [],
   "source": []
  }
 ],
 "metadata": {
  "kernelspec": {
   "display_name": "Python 3",
   "language": "python",
   "name": "python3"
  },
  "language_info": {
   "codemirror_mode": {
    "name": "ipython",
    "version": 3
   },
   "file_extension": ".py",
   "mimetype": "text/x-python",
   "name": "python",
   "nbconvert_exporter": "python",
   "pygments_lexer": "ipython3",
   "version": "3.5.6"
  }
 },
 "nbformat": 4,
 "nbformat_minor": 2
}
