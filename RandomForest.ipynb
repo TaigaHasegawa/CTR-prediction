{
 "cells": [
  {
   "cell_type": "code",
   "execution_count": 22,
   "metadata": {},
   "outputs": [],
   "source": [
    "import pandas as pd \n",
    "import numpy as np \n",
    "import matplotlib.pyplot as plt\n",
    "import seaborn as sns\n",
    "from sklearn.model_selection import train_test_split\n",
    "from sklearn.ensemble import RandomForestClassifier\n",
    "from sklearn.metrics import roc_auc_score "
   ]
  },
  {
   "cell_type": "code",
   "execution_count": 24,
   "metadata": {},
   "outputs": [],
   "source": [
    "df_final = pd.read_csv(\"df_final.csv\")"
   ]
  },
  {
   "cell_type": "code",
   "execution_count": 25,
   "metadata": {},
   "outputs": [],
   "source": [
    "cat_cols = ['os', 'browser','slot_id', \"ssp_uid\",'carrier_name', 'region','creative_type','sponsor_id','campaign_id','creative_id',\"is_rt\", 'request_hour',\n",
    "       'request_month', 'request_day', 'request_dayofweek', 'rt_times']\n",
    "for c in cat_cols:\n",
    "    vv, obj = pd.factorize(df_final[c])\n",
    "    df_final[c] = vv"
   ]
  },
  {
   "cell_type": "code",
   "execution_count": 26,
   "metadata": {},
   "outputs": [],
   "source": [
    "df_final = df_final.fillna(0)\n",
    "num_data=len(df_final)"
   ]
  },
  {
   "cell_type": "code",
   "execution_count": null,
   "metadata": {},
   "outputs": [],
   "source": [
    "!conda create -y -n optuna_env pip python=3.4\n",
    "!conda activate -y optuna_env\n",
    "!conda install -y scikit-learn matplotlib\n",
    "!pip install cython\n",
    "!conda install -y pandas\n",
    "!pip install optuna\n",
    "!conda -y deactivate"
   ]
  },
  {
   "cell_type": "code",
   "execution_count": null,
   "metadata": {},
   "outputs": [],
   "source": [
    "import optuna"
   ]
  },
  {
   "cell_type": "markdown",
   "metadata": {},
   "source": [
    "# Grid Search"
   ]
  },
  {
   "cell_type": "code",
   "execution_count": 16,
   "metadata": {},
   "outputs": [
    {
     "name": "stdout",
     "output_type": "stream",
     "text": [
      "Depth:20, split:8, nodes:60,AUC(ROC):0.7305188170490731\n",
      "Depth:20, split:16, nodes:60,AUC(ROC):0.7313446883944708\n",
      "Depth:20, split:20, nodes:60,AUC(ROC):0.7302201270036253\n",
      "Depth:30, split:8, nodes:60,AUC(ROC):0.7313499652656108\n",
      "Depth:30, split:16, nodes:60,AUC(ROC):0.7310674612704999\n",
      "Depth:30, split:20, nodes:60,AUC(ROC):0.7314681753815424\n",
      "Depth:40, split:8, nodes:60,AUC(ROC):0.7314861932990626\n",
      "Depth:40, split:16, nodes:60,AUC(ROC):0.7317185670183415\n",
      "Depth:40, split:20, nodes:60,AUC(ROC):0.7318735375137964\n"
     ]
    }
   ],
   "source": [
    "from sklearn.ensemble import RandomForestClassifier\n",
    "# featureとラベルをそれぞれ抽出してtrain/testに分割\n",
    "feature_cols =  ['browser',\n",
    "       'slot_id', 'sponsor_id', 'campaign_id', 'creative_id',\n",
    "       'region', 'fq', 'recency', 'inview_recency', 'request_hour',\n",
    "       'request_day','click_flg_0']\n",
    "label_col = \"click_flg\"\n",
    "features = df_final[feature_cols]\n",
    "labels = df_final[label_col]\n",
    "train_x = features.iloc[0:int(num_data*0.8),:]\n",
    "val_x = features.iloc[int(num_data*0.8):int(num_data*0.9),:]\n",
    "test_x = features.iloc[int(num_data*0.9):num_data,:]\n",
    "train_y = labels[0:int(num_data*0.8)]\n",
    "val_y = labels[int(num_data*0.8):int(num_data*0.9)]\n",
    "test_y = labels[int(num_data*0.9):num_data]\n",
    "# 分割したうちの訓練データでRFモデルをfit\n",
    "for depth in [20,30,40]:\n",
    "    for split in [8,16,20]:\n",
    "        clf = RandomForestClassifier(n_estimators = 300, max_depth = depth, min_samples_split = split, max_leaf_nodes = 80)\n",
    "        clf.fit(train_x, train_y)\n",
    "        y_pred = clf.predict_proba(val_x)[:, 1]\n",
    "        print(\"Depth:{}, split:{}, nodes:{},AUC(ROC):{}\".format(depth,split,nodes,roc_auc_score(val_y,y_pred)))\n"
   ]
  },
  {
   "cell_type": "markdown",
   "metadata": {},
   "source": [
    "# Without features made by me"
   ]
  },
  {
   "cell_type": "code",
   "execution_count": 28,
   "metadata": {},
   "outputs": [
    {
     "data": {
      "text/plain": [
       "RandomForestClassifier(bootstrap=True, class_weight=None, criterion='gini',\n",
       "            max_depth=40, max_features='auto', max_leaf_nodes=80,\n",
       "            min_impurity_decrease=0.0, min_impurity_split=None,\n",
       "            min_samples_leaf=1, min_samples_split=20,\n",
       "            min_weight_fraction_leaf=0.0, n_estimators=300, n_jobs=1,\n",
       "            oob_score=False, random_state=None, verbose=0,\n",
       "            warm_start=False)"
      ]
     },
     "execution_count": 28,
     "metadata": {},
     "output_type": "execute_result"
    }
   ],
   "source": [
    "from sklearn.ensemble import RandomForestClassifier\n",
    "# featureとラベルをそれぞれ抽出してtrain/testに分割\n",
    "feature_cols =  ['browser',\n",
    "       'slot_id', 'sponsor_id', 'campaign_id', 'creative_id',\n",
    "       'region', 'fq', 'recency', 'inview_recency']\n",
    "label_col = \"click_flg\"\n",
    "features = df_final[feature_cols]\n",
    "labels = df_final[label_col]\n",
    "train_x = features.iloc[0:int(num_data*0.8),:]\n",
    "val_x = features.iloc[int(num_data*0.8):int(num_data*0.9),:]\n",
    "test_x = features.iloc[int(num_data*0.9):num_data,:]\n",
    "train_y = labels[0:int(num_data*0.8)]\n",
    "val_y = labels[int(num_data*0.8):int(num_data*0.9)]\n",
    "test_y = labels[int(num_data*0.9):num_data]\n",
    "clf = RandomForestClassifier(n_estimators = 300, max_depth = 40, min_samples_split = 20, max_leaf_nodes = 80)\n",
    "clf.fit(train_x, train_y)"
   ]
  },
  {
   "cell_type": "code",
   "execution_count": 29,
   "metadata": {},
   "outputs": [
    {
     "name": "stdout",
     "output_type": "stream",
     "text": [
      "AUC(ROC):0.7444709083641063\n"
     ]
    }
   ],
   "source": [
    "# 評価指標としてrocaucを計算する\n",
    "y_pred = clf.predict_proba(test_x)[:, 1]\n",
    "print(\"AUC(ROC):{}\".format(roc_auc_score(test_y,y_pred)))"
   ]
  },
  {
   "cell_type": "code",
   "execution_count": 30,
   "metadata": {},
   "outputs": [
    {
     "name": "stderr",
     "output_type": "stream",
     "text": [
      "/usr/local/envs/py3env/lib/python3.5/site-packages/matplotlib/font_manager.py:1320: UserWarning: findfont: Font family ['sans-serif'] not found. Falling back to DejaVu Sans\n",
      "  (prop.get_family(), self.defaultFamily[fontext]))\n"
     ]
    },
    {
     "data": {
      "image/png": "[encoded data removed]",
      "text/plain": [
       "<matplotlib.figure.Figure at 0x7fdf0cdeef60>"
      ]
     },
     "metadata": {},
     "output_type": "display_data"
    }
   ],
   "source": [
    "importances = clf.feature_importances_\n",
    "indices = np.argsort(importances)\n",
    "\n",
    "plt.title('Feature Importances')\n",
    "plt.barh(range(len(indices)), importances[indices], color='b', align='center')\n",
    "plt.yticks(range(len(indices)), [feature_cols[i] for i in indices])\n",
    "plt.xlabel('Relative Importance')\n",
    "plt.show()"
   ]
  },
  {
   "cell_type": "code",
   "execution_count": 31,
   "metadata": {},
   "outputs": [
    {
     "name": "stderr",
     "output_type": "stream",
     "text": [
      "/usr/local/envs/py3env/lib/python3.5/site-packages/matplotlib/font_manager.py:1320: UserWarning: findfont: Font family ['sans-serif'] not found. Falling back to DejaVu Sans\n",
      "  (prop.get_family(), self.defaultFamily[fontext]))\n"
     ]
    },
    {
     "data": {
      "image/png": "[encoded data removed]",
      "text/plain": [
       "<matplotlib.figure.Figure at 0x7fdf0cf84b00>"
      ]
     },
     "metadata": {},
     "output_type": "display_data"
    },
    {
     "name": "stdout",
     "output_type": "stream",
     "text": [
      "AUC(PR):0.2677795647257137\n"
     ]
    }
   ],
   "source": [
    "# precision-recall curve and f1\n",
    "from sklearn.metrics import precision_recall_curve\n",
    "from sklearn.metrics import auc\n",
    "from matplotlib import pyplot\n",
    "import random\n",
    "# generate a no skill prediction (majority class)\n",
    "no_skill_probs = [i for i in np.random.rand(len(test_y))]\n",
    "# calculate precision and recall for each threshold\n",
    "ns_precision, ns_recall, _ = precision_recall_curve(test_y, no_skill_probs)\n",
    "lr_precision, lr_recall, _ = precision_recall_curve(test_y, y_pred)\n",
    "\n",
    "# plot the precision-recall curves\n",
    "pyplot.plot(ns_recall, ns_precision, linestyle='--', label='No Skill')\n",
    "pyplot.plot(lr_recall, lr_precision, linestyle='-', label='Logistic')\n",
    "# axis labels\n",
    "pyplot.xlabel('Recall')\n",
    "pyplot.ylabel('Precision')\n",
    "# show the legend\n",
    "pyplot.legend()\n",
    "# show the plot\n",
    "pyplot.show()\n",
    "print(\"AUC(PR):%s\" %str(auc(lr_recall, lr_precision)))"
   ]
  },
  {
   "cell_type": "markdown",
   "metadata": {},
   "source": [
    "# With features made by me"
   ]
  },
  {
   "cell_type": "code",
   "execution_count": 27,
   "metadata": {},
   "outputs": [],
   "source": [
    "# featureとラベルをそれぞれ抽出してtrain/testに分割\n",
    "feature_cols =  ['browser',\n",
    "       'slot_id', 'campaign_id', 'creative_id',\n",
    "       'region', 'fq', 'recency', 'inview_recency', 'request_hour']\n",
    "label_col = \"click_flg\"\n",
    "features = df_final[feature_cols]\n",
    "labels = df_final[label_col]\n",
    "train_x = features.iloc[0:int(num_data*0.8),:]\n",
    "val_x = features.iloc[int(num_data*0.8):int(num_data*0.9),:]\n",
    "test_x = features.iloc[int(num_data*0.9):num_data,:]\n",
    "train_y = labels[0:int(num_data*0.8)]\n",
    "val_y = labels[int(num_data*0.8):int(num_data*0.9)]\n",
    "test_y = labels[int(num_data*0.9):num_data]"
   ]
  },
  {
   "cell_type": "code",
   "execution_count": 28,
   "metadata": {
    "codeCollapsed": true
   },
   "outputs": [],
   "source": [
    "class TargetEncoding_ws(object):\n",
    "    \"\"\"\n",
    "    DFと変換したいカラムリスト、targetを引数として、Target Encoding with Smoothingを行う\n",
    "    引数\n",
    "    dataframe : DF全体 (pd.DataFrame)\n",
    "    target : 目的変数のカラム (np.ndarray or np.Series)\n",
    "    list_cols : 変換したいカラムリスト (list[str])\n",
    "    k : smoothingのハイパーパラメータ (int)\n",
    "    impute : 未知のカテゴリに平均を入れるか (boolean)\n",
    "    \"\"\"\n",
    "    def __init__(self, list_cols, k=100, impute=True):\n",
    "        self.df = None\n",
    "        self.target = None\n",
    "        self.list_cols = list_cols\n",
    "        self.k = k\n",
    "        self.impute = impute\n",
    "        self.target_map = {}\n",
    "        self.target_mean = None\n",
    "\n",
    "    def sigmoid(self, x, k):\n",
    "        return 1 / (1 + np.exp(- x / k))\n",
    "\n",
    "    def fit_univariate(self, target, col):\n",
    "        \"\"\"\n",
    "        一つの変数に対するTarget_Encoding\n",
    "        col : TargetEncodingしたい変数名\n",
    "        \"\"\"\n",
    "        df = self.df.copy()\n",
    "        k = self.k\n",
    "        df[\"target\"] = target\n",
    "        n_i = df.groupby(col).count()[\"target\"]\n",
    "\n",
    "        lambda_n_i = self.sigmoid(n_i, k)\n",
    "        uni_map = df.groupby(col).mean()[\"target\"]\n",
    "\n",
    "        return lambda_n_i * df.loc[:, \"target\"].mean() + (1 - lambda_n_i) * uni_map\n",
    "\n",
    "    def fit(self, data, target):\n",
    "        \"\"\"\n",
    "        複数カラムにも対応したTargetEncoding\n",
    "        \"\"\"\n",
    "        self.df = data.copy()\n",
    "        self.target = target\n",
    "\n",
    "        if self.impute == True:\n",
    "            self.target_mean = target.mean()\n",
    "\n",
    "        #各カラムのmapを保存\n",
    "        for col in list_cols:\n",
    "            self.target_map[col] = self.fit_univariate(target, col)\n",
    "\n",
    "    def transform(self, x):\n",
    "        list_cols = self.list_cols\n",
    "        x_d = x.copy()\n",
    "        for col in list_cols:\n",
    "            x_d.loc[:, col] = x_d.loc[:, col].map(self.target_map[col])\n",
    "\n",
    "            #impute\n",
    "            if self.impute == True:\n",
    "                x_d.loc[:, col] = np.where(x_d.loc[:, col].isnull(), self.target_mean, x_d.loc[:, col])\n",
    "\n",
    "        return x_d"
   ]
  },
  {
   "cell_type": "code",
   "execution_count": 29,
   "metadata": {},
   "outputs": [],
   "source": [
    "list_cols = ['browser',\n",
    "       'slot_id', 'campaign_id', 'creative_id',\n",
    "       'region', 'request_hour']"
   ]
  },
  {
   "cell_type": "code",
   "execution_count": 30,
   "metadata": {},
   "outputs": [],
   "source": [
    "te = TargetEncoding_ws(list_cols=list_cols, k=300, impute=True)\n",
    "te.fit(train_x, train_y)\n",
    "train_x_1 = te.transform(train_x)\n",
    "test_x_1 = te.transform(test_x)"
   ]
  },
  {
   "cell_type": "code",
   "execution_count": 31,
   "metadata": {},
   "outputs": [
    {
     "data": {
      "text/plain": [
       "RandomForestClassifier(bootstrap=True, class_weight=None, criterion='gini',\n",
       "                       max_depth=40, max_features='auto', max_leaf_nodes=80,\n",
       "                       min_impurity_decrease=0.0, min_impurity_split=None,\n",
       "                       min_samples_leaf=1, min_samples_split=20,\n",
       "                       min_weight_fraction_leaf=0.0, n_estimators=300,\n",
       "                       n_jobs=None, oob_score=False, random_state=None,\n",
       "                       verbose=0, warm_start=False)"
      ]
     },
     "execution_count": 31,
     "metadata": {},
     "output_type": "execute_result"
    }
   ],
   "source": [
    "clf = RandomForestClassifier(n_estimators = 300, max_depth = 40, min_samples_split = 20, max_leaf_nodes = 80)\n",
    "clf.fit(train_x_1, train_y)"
   ]
  },
  {
   "cell_type": "code",
   "execution_count": 32,
   "metadata": {},
   "outputs": [
    {
     "name": "stdout",
     "output_type": "stream",
     "text": [
      "AUC(ROC):0.7646213655236962\n"
     ]
    }
   ],
   "source": [
    "# 評価指標としてrocaucを計算する\n",
    "y_pred = clf.predict_proba(test_x_1)[:, 1]\n",
    "print(\"AUC(ROC):{}\".format(roc_auc_score(test_y,y_pred)))"
   ]
  },
  {
   "cell_type": "code",
   "execution_count": 33,
   "metadata": {},
   "outputs": [
    {
     "name": "stdout",
     "output_type": "stream",
     "text": [
      "[0.09493895792818476]\n"
     ]
    },
    {
     "name": "stderr",
     "output_type": "stream",
     "text": [
      "/usr/local/envs/py3env/lib/python3.5/site-packages/ipykernel/__main__.py:18: DeprecationWarning: \n",
      ".ix is deprecated. Please use\n",
      ".loc for label based indexing or\n",
      ".iloc for positional indexing\n",
      "\n",
      "See the documentation here:\n",
      "http://pandas.pydata.org/pandas-docs/stable/indexing.html#ix-indexer-is-deprecated\n"
     ]
    },
    {
     "data": {
      "text/plain": [
       "array([[12725,  5264],\n",
       "       [  590,  1421]])"
      ]
     },
     "execution_count": 33,
     "metadata": {},
     "output_type": "execute_result"
    }
   ],
   "source": [
    "from sklearn.metrics import roc_curve, auc\n",
    "def Find_Optimal_Cutoff(target, predicted):\n",
    "    \"\"\" Find the optimal probability cutoff point for a classification model related to event rate\n",
    "    Parameters\n",
    "    ----------\n",
    "    target : Matrix with dependent or target data, where rows are observations\n",
    "\n",
    "    predicted : Matrix with predicted data, where rows are observations\n",
    "\n",
    "    Returns\n",
    "    -------     \n",
    "    list type, with optimal cutoff value\n",
    "\n",
    "    \"\"\"\n",
    "    fpr, tpr, threshold = roc_curve(target, predicted)\n",
    "    i = np.arange(len(tpr)) \n",
    "    roc = pd.DataFrame({'tf' : pd.Series(tpr-(1-fpr), index=i), 'threshold' : pd.Series(threshold, index=i)})\n",
    "    roc_t = roc.ix[(roc.tf-0).abs().argsort()[:1]]\n",
    "\n",
    "    return list(roc_t['threshold']) \n",
    "\n",
    "# Find optimal probability threshold\n",
    "threshold = Find_Optimal_Cutoff(test_y, y_pred)\n",
    "print (threshold)\n",
    "# [0.31762762459360921]\n",
    "\n",
    "# Find prediction to the dataframe applying threshold\n",
    "pred = []\n",
    "for i in y_pred:\n",
    "  if i>threshold:\n",
    "    pred.append(1)\n",
    "  else:\n",
    "    pred.append(0)\n",
    "\n",
    "# Print confusion Matrix\n",
    "from sklearn.metrics import confusion_matrix\n",
    "confusion_matrix(test_y, pred)\n",
    "# array([[175,  98],\n",
    "#        [ 46,  81]])"
   ]
  },
  {
   "cell_type": "code",
   "execution_count": 14,
   "metadata": {},
   "outputs": [
    {
     "data": {
      "text/plain": [
       "[('slot_id', 0.7029863216067949),\n",
       " ('creative_id', 0.17347579090689227),\n",
       " ('fq', 0.045229206227198095),\n",
       " ('campaign_id', 0.028873850709643538),\n",
       " ('recency', 0.02377198907900657),\n",
       " ('region', 0.010693094016089916),\n",
       " ('inview_recency', 0.009798148213747502),\n",
       " ('request_hour', 0.004525780351044682),\n",
       " ('browser', 0.0006458188895825417)]"
      ]
     },
     "execution_count": 14,
     "metadata": {},
     "output_type": "execute_result"
    }
   ],
   "source": [
    "sorted(list(zip(feature_cols, clf.feature_importances_)), key=lambda x: x[1], reverse=True)"
   ]
  },
  {
   "cell_type": "code",
   "execution_count": 15,
   "metadata": {},
   "outputs": [
    {
     "name": "stderr",
     "output_type": "stream",
     "text": [
      "/usr/local/envs/py3env/lib/python3.5/site-packages/matplotlib/font_manager.py:1320: UserWarning: findfont: Font family ['sans-serif'] not found. Falling back to DejaVu Sans\n",
      "  (prop.get_family(), self.defaultFamily[fontext]))\n"
     ]
    },
    {
     "data": {
      "image/png": "[encoded data removed]",
      "text/plain": [
       "<matplotlib.figure.Figure at 0x7f4dd0293550>"
      ]
     },
     "metadata": {},
     "output_type": "display_data"
    }
   ],
   "source": [
    "importances = clf.feature_importances_\n",
    "indices = np.argsort(importances)\n",
    "\n",
    "plt.title('Feature Importances')\n",
    "plt.barh(range(len(indices)), importances[indices], color='b', align='center')\n",
    "plt.yticks(range(len(indices)), [feature_cols[i] for i in indices])\n",
    "plt.xlabel('Relative Importance')\n",
    "plt.show()"
   ]
  },
  {
   "cell_type": "code",
   "execution_count": 16,
   "metadata": {},
   "outputs": [
    {
     "name": "stderr",
     "output_type": "stream",
     "text": [
      "/usr/local/envs/py3env/lib/python3.5/site-packages/matplotlib/font_manager.py:1320: UserWarning: findfont: Font family ['sans-serif'] not found. Falling back to DejaVu Sans\n",
      "  (prop.get_family(), self.defaultFamily[fontext]))\n"
     ]
    },
    {
     "data": {
      "image/png": "[encoded data removed]",
      "text/plain": [
       "<matplotlib.figure.Figure at 0x7f4dd02b1908>"
      ]
     },
     "metadata": {},
     "output_type": "display_data"
    }
   ],
   "source": [
    "# precision-recall curve and f1\n",
    "from sklearn.metrics import precision_recall_curve\n",
    "from sklearn.metrics import auc\n",
    "from matplotlib import pyplot\n",
    "import random\n",
    "# generate a no skill prediction (majority class)\n",
    "no_skill_probs = [i for i in np.random.rand(len(test_y))]\n",
    "# calculate precision and recall for each threshold\n",
    "ns_precision, ns_recall, _ = precision_recall_curve(test_y, no_skill_probs)\n",
    "lr_precision, lr_recall, _ = precision_recall_curve(test_y, y_pred)\n",
    "\n",
    "# plot the precision-recall curves\n",
    "pyplot.plot(ns_recall, ns_precision, linestyle='--', label='No Skill')\n",
    "pyplot.plot(lr_recall, lr_precision, linestyle='-', label='Logistic')\n",
    "# axis labels\n",
    "pyplot.xlabel('Recall')\n",
    "pyplot.ylabel('Precision')\n",
    "# show the legend\n",
    "pyplot.legend()\n",
    "# show the plot\n",
    "pyplot.show()"
   ]
  },
  {
   "cell_type": "code",
   "execution_count": 17,
   "metadata": {},
   "outputs": [
    {
     "name": "stdout",
     "output_type": "stream",
     "text": [
      "AUC(PR):0.2879448583297637\n"
     ]
    }
   ],
   "source": [
    "from sklearn.metrics import auc\n",
    "print(\"AUC(PR):%s\" %str(auc(lr_recall, lr_precision)))"
   ]
  },
  {
   "cell_type": "code",
   "execution_count": 34,
   "metadata": {},
   "outputs": [],
   "source": [
    "y_pred_str = [str(n) for n in y_pred]"
   ]
  },
  {
   "cell_type": "code",
   "execution_count": 35,
   "metadata": {},
   "outputs": [],
   "source": [
    "with open('randomforest_1.txt', 'w') as rd:\n",
    "    rd.writelines('\\n'.join(y_pred_str))"
   ]
  },
  {
   "cell_type": "code",
   "execution_count": 21,
   "metadata": {},
   "outputs": [],
   "source": [
    "with open('randomforest.txt', 'r') as rd:\n",
    "    y_pred = [float(s.strip()) for s in rd.readlines()]"
   ]
  },
  {
   "cell_type": "code",
   "execution_count": 2,
   "metadata": {},
   "outputs": [],
   "source": [
    "from sklearn.ensemble import RandomForestClassifier\n",
    "from sklearn.metrics import accuracy_score\n",
    "def objective(trial):\n",
    "  params = {\n",
    "            'n_estimators': int(trial.suggest_loguniform('n_estimators', 1e+2, 1e+3)),\n",
    "            'max_depth': int(trial.suggest_loguniform('max_depth', 2, 32)),\n",
    "            'min_samples_split':trial.suggest_int(\"min_samples_split\", 8, 16),\n",
    "            'max_leaf_nodes':int(trial.suggest_discrete_uniform(\"max_leaf_nodes\", 4, 64, 4))\n",
    "        }\n",
    "    \n",
    "  RFC = RandomForestClassifier(**params)\n",
    "  RFC.fit(train_x, train_y)\n",
    "  y_pred = clf.predict_proba(test_x)[:, 1]\n",
    "  return 1.0 - roc_auc_score(test_y, y_pred)"
   ]
  }
 ],
 "metadata": {
  "kernelspec": {
   "display_name": "Python 3",
   "language": "python",
   "name": "python3"
  },
  "language_info": {
   "codemirror_mode": {
    "name": "ipython",
    "version": 3
   },
   "file_extension": ".py",
   "mimetype": "text/x-python",
   "name": "python",
   "nbconvert_exporter": "python",
   "pygments_lexer": "ipython3",
   "version": "3.5.6"
  }
 },
 "nbformat": 4,
 "nbformat_minor": 2
}
